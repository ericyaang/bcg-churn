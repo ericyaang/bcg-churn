{
 "cells": [
  {
   "attachments": {},
   "cell_type": "markdown",
   "metadata": {},
   "source": [
    "## Import packages"
   ]
  },
  {
   "cell_type": "code",
   "execution_count": 43,
   "metadata": {},
   "outputs": [],
   "source": [
    "import pandas as pd\n",
    "import numpy as np"
   ]
  },
  {
   "attachments": {},
   "cell_type": "markdown",
   "metadata": {},
   "source": [
    "## Load data"
   ]
  },
  {
   "cell_type": "code",
   "execution_count": 44,
   "metadata": {},
   "outputs": [],
   "source": [
    "client_df = pd.read_csv(r'C:\\Users\\Eric\\Documents\\___Portfolio\\bcg-churn\\data\\client_data.csv')\n",
    "price_df = pd.read_csv(r'C:\\Users\\Eric\\Documents\\___Portfolio\\bcg-churn\\data\\price_data.csv')"
   ]
  },
  {
   "attachments": {},
   "cell_type": "markdown",
   "metadata": {},
   "source": [
    "## client_df\n"
   ]
  },
  {
   "cell_type": "code",
   "execution_count": 45,
   "metadata": {},
   "outputs": [],
   "source": [
    "keys_client  = {\n",
    "    'channel_sales':'sales_channel_id',\n",
    "    'activity_new':'client_category',\n",
    "    'origin_up':'first_ec_id',\n",
    "    'nb_prod_act':'n_actv_ps',\n",
    "    'num_years_antig':'years_as_client',\n",
    "    'forecast_price_energy_off_peak':'forecast_price_e_1',\n",
    "    'forecast_price_energy_peak':'forecast_price_e_2',\n",
    "    'forecast_price_pow_off_peak': 'forecast_price_p_1'\n",
    "\n",
    "}\n",
    "\n",
    "client_df = client_df.rename(columns=keys_client)"
   ]
  },
  {
   "cell_type": "code",
   "execution_count": 46,
   "metadata": {},
   "outputs": [],
   "source": [
    "# Replace 'MISSING' with NaN in 'sales_channel_id' and 'first_ec_id' columns\n",
    "client_df['sales_channel_id'] = client_df['sales_channel_id'].replace('MISSING', np.nan)\n",
    "client_df['first_ec_id'] = client_df['first_ec_id'].replace('MISSING', np.nan)\n",
    "\n",
    "# Create mapping dictionaries for 'sales_channel_id' and 'first_ec_id' columns\n",
    "sales_channel_map = {k: chr(97 + i) for i, k in enumerate(client_df['sales_channel_id'].dropna().unique())}\n",
    "\n",
    "first_ec_map = {k: chr(97 + i) for i, k in enumerate(client_df['first_ec_id'].dropna().unique())}\n",
    "\n",
    "# Map the values using the created mapping dictionaries\n",
    "client_df['sales_channel_id'] = client_df['sales_channel_id'].map(sales_channel_map)\n",
    "client_df['first_ec_id'] = client_df['first_ec_id'].map(first_ec_map)\n"
   ]
  },
  {
   "cell_type": "code",
   "execution_count": 47,
   "metadata": {},
   "outputs": [
    {
     "data": {
      "text/plain": [
       "{'foosdfpfkusacimwkcsosbicdxkicaua': 'a',\n",
       " 'lmkebamcaaclubfxadlmueccxoimlema': 'b',\n",
       " 'usilxuppasemubllopkaafesmlibmsdf': 'c',\n",
       " 'ewpakwlliwisiwduibdlfmalxowmwpci': 'd',\n",
       " 'epumfxlbckeskwekxbiuasklxalciiuu': 'e',\n",
       " 'sddiedcslfslkckwlfkdpoeeailfpeds': 'f',\n",
       " 'fixdbufsefwooaasfcxdxadsiekoceaa': 'g'}"
      ]
     },
     "execution_count": 47,
     "metadata": {},
     "output_type": "execute_result"
    }
   ],
   "source": [
    "sales_channel_map"
   ]
  },
  {
   "cell_type": "code",
   "execution_count": 48,
   "metadata": {},
   "outputs": [
    {
     "data": {
      "text/plain": [
       "{'lxidpiddsbxsbosboudacockeimpuepw': 'a',\n",
       " 'kamkkxfxxuwbdslkwifmmcsiusiuosws': 'b',\n",
       " 'ldkssxwpmemidmecebumciepifcamkci': 'c',\n",
       " 'usapbepcfoloekilkwsdiboslwaxobdp': 'd',\n",
       " 'ewxeelcelemmiwuafmddpobolfuxioce': 'e'}"
      ]
     },
     "execution_count": 48,
     "metadata": {},
     "output_type": "execute_result"
    }
   ],
   "source": [
    "first_ec_map"
   ]
  },
  {
   "cell_type": "code",
   "execution_count": 49,
   "metadata": {},
   "outputs": [],
   "source": [
    "def convert_date_columns(df, date_cols):\n",
    "    for col in date_cols:\n",
    "        df[col] = pd.to_datetime(df[col], format='%Y-%m-%d')\n",
    "    return df\n",
    "# Find columns containing 'date'\n",
    "date_cols = ['date_activ', 'date_end', 'date_modif_prod', 'date_renewal']\n",
    "# Convert columns with the string 'date' to datetime type\n",
    "client_df = convert_date_columns(client_df, date_cols)\n",
    "\n",
    "# Categorical columns\n",
    "cat_cols = ['sales_channel_id', 'first_ec_id']\n",
    "client_df[cat_cols] = client_df[cat_cols].astype('category')\n",
    "\n",
    "# Integer columns\n",
    "int_cols = ['n_actv_ps', 'years_as_client']\n",
    "client_df[int_cols] = client_df[int_cols].astype('int32')\n",
    "\n",
    "# Churn column\n",
    "client_df['churn'] = client_df['churn'].astype('int8')\n",
    "\n",
    "# has_gas column\n",
    "client_df['has_gas'] = np.where(client_df['has_gas'] == 't', 1, 0).astype('int8')\n",
    "\n",
    "# dicount as integer\n",
    "client_df['forecast_discount_energy'] = client_df['forecast_discount_energy'].mul(1).astype('int')"
   ]
  },
  {
   "attachments": {},
   "cell_type": "markdown",
   "metadata": {},
   "source": [
    "## prices_df"
   ]
  },
  {
   "cell_type": "code",
   "execution_count": 50,
   "metadata": {},
   "outputs": [],
   "source": [
    "keys_price  = {\n",
    "    'price_off_peak_var': 'price_e_1',\n",
    "    'price_peak_var': 'price_e_2',\n",
    "    'price_mid_peak_var':'price_e_3',\n",
    "    'price_off_peak_fix':'price_p_1',\n",
    "    'price_peak_fix':'price_p_2',\n",
    "    'price_mid_peak_fix':'price_p_3'\n",
    "}\n",
    "\n",
    "price_df = price_df.rename(columns=keys_price)"
   ]
  },
  {
   "cell_type": "code",
   "execution_count": 51,
   "metadata": {},
   "outputs": [],
   "source": [
    "# find date columns and convert it as datatime\n",
    "price_df['price_date'] = pd.to_datetime(price_df['price_date'], format='%Y-%m-%d')"
   ]
  },
  {
   "attachments": {},
   "cell_type": "markdown",
   "metadata": {},
   "source": [
    "## Save cleaned dataframes"
   ]
  },
  {
   "cell_type": "code",
   "execution_count": 56,
   "metadata": {},
   "outputs": [
    {
     "name": "stdout",
     "output_type": "stream",
     "text": [
      "Files saved successfully\n"
     ]
    }
   ],
   "source": [
    "try:\n",
    "    price_df.to_parquet(r'C:\\Users\\Eric\\Documents\\___Portfolio\\bcg-churn\\data\\price_cleaned.parquet')\n",
    "    client_df.to_parquet(r'C:\\Users\\Eric\\Documents\\___Portfolio\\bcg-churn\\data\\client_cleaned.parquet')\n",
    "    print(\"Files saved successfully\")\n",
    "except Exception as e:\n",
    "    print(f\"Error occurred: {e}\")\n"
   ]
  }
 ],
 "metadata": {
  "kernelspec": {
   "display_name": "env_full",
   "language": "python",
   "name": "python3"
  },
  "language_info": {
   "codemirror_mode": {
    "name": "ipython",
    "version": 3
   },
   "file_extension": ".py",
   "mimetype": "text/x-python",
   "name": "python",
   "nbconvert_exporter": "python",
   "pygments_lexer": "ipython3",
   "version": "3.10.0"
  },
  "orig_nbformat": 4
 },
 "nbformat": 4,
 "nbformat_minor": 2
}
