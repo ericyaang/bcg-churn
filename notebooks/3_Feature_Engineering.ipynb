{
 "cells": [
  {
   "attachments": {},
   "cell_type": "markdown",
   "metadata": {},
   "source": [
    "## Load data"
   ]
  },
  {
   "cell_type": "code",
   "execution_count": 1,
   "metadata": {},
   "outputs": [],
   "source": [
    "import pandas as pd\n",
    "import matplotlib.pyplot as plt\n",
    "import numpy as np\n",
    "from sklearn.model_selection import train_test_split\n",
    "pd.set_option('display.float_format', lambda x: '%.3f' % x)\n",
    "\n",
    "SEED = 1234\n",
    "SPLIT_SIZE = 0.80\n",
    "target = ['churn']\n",
    "data_file = r'C:\\Users\\Eric\\Documents\\___Portfolio\\bcg-churn\\data\\df_merged.parquet'"
   ]
  },
  {
   "attachments": {},
   "cell_type": "markdown",
   "metadata": {},
   "source": [
    "## Split"
   ]
  },
  {
   "cell_type": "code",
   "execution_count": 2,
   "metadata": {},
   "outputs": [],
   "source": [
    "\n",
    "def load_data(file_path):\n",
    "    return pd.read_parquet(file_path)\n",
    "\n",
    "def split_data(df, target, split_size, seed):\n",
    "    train, test = train_test_split(df, train_size=split_size, random_state=seed, stratify=df[target])\n",
    "    return train.reset_index(drop=True), test.reset_index(drop=True)\n",
    "\n",
    "def save_data(df, file_path):\n",
    "    df.to_parquet(file_path)\n",
    "\n",
    "# Load data\n",
    "df = load_data(data_file)\n",
    "\n",
    "# Split data\n",
    "train, test = split_data(df, target, SPLIT_SIZE, SEED)\n",
    "\n",
    "# Reset index\n",
    "train = train.reset_index(drop=True)\n",
    "test = test.reset_index(drop=True)"
   ]
  },
  {
   "attachments": {},
   "cell_type": "markdown",
   "metadata": {},
   "source": [
    "## Organize features"
   ]
  },
  {
   "attachments": {},
   "cell_type": "markdown",
   "metadata": {},
   "source": [
    "### Columns to drop\n",
    "\n",
    "- `id`: Not useful for prediction.\n",
    "- datetime columns: The raw datetime format does not provide any value for prediction.\n",
    "- Any columns related to `price_*_3_*`: 60% of the counts represent 0 prices, which was not significant when measuring price elasticity of demand.\n",
    "- `margin_gross_pow_ele`: Redundant since we already have `margin_net_pow_ele`.\n",
    "- price_zero columns:  "
   ]
  },
  {
   "cell_type": "code",
   "execution_count": 3,
   "metadata": {},
   "outputs": [],
   "source": [
    "drop_cols = ['id', 'margin_gross_pow_ele', 'date_activ', 'date_end', 'date_modif_prod', 'date_renewal','price_e_3_diff_dec_jan', 'price_p_3_diff_dec_jan', 'price_e_3_mean',\n",
    "       'price_e_3_std', 'price_p_3_mean', 'price_p_3_std', 'price_e_1_zero', 'price_e_2_zero', 'price_e_3_zero', 'price_p_1_zero',\n",
    "       'price_p_2_zero', 'price_p_3_zero']\n",
    "\n",
    "bi_cols = ['has_gas']\n",
    "int_cols = ['forecast_discount_energy', 'n_actv_ps', 'years_as_client']\n",
    "cat_cols = ['sales_channel_id', 'first_ec_id']\n",
    "num_cols = ['cons_12m',\n",
    " 'cons_gas_12m',\n",
    " 'cons_last_month',\n",
    " 'forecast_cons_12m',\n",
    " 'forecast_cons_year',\n",
    " 'forecast_meter_rent_12m',\n",
    " 'forecast_price_e_1',\n",
    " 'forecast_price_e_2',\n",
    " 'forecast_price_p_1',\n",
    " 'imp_cons',\n",
    " 'margin_net_pow_ele',\n",
    " 'net_margin',\n",
    " 'pow_max',\n",
    " 'price_e_1_diff_dec_jan',\n",
    " 'price_e_2_diff_dec_jan',\n",
    " 'price_p_1_diff_dec_jan',\n",
    " 'price_p_2_diff_dec_jan',\n",
    " 'price_e_1_mean',\n",
    " 'price_e_1_std',\n",
    " 'price_e_2_mean',\n",
    " 'price_e_2_std',\n",
    " 'price_p_1_mean',\n",
    " 'price_p_1_std',\n",
    " 'price_p_2_mean',\n",
    " 'price_p_2_std']"
   ]
  },
  {
   "attachments": {},
   "cell_type": "markdown",
   "metadata": {},
   "source": [
    "### Split labels"
   ]
  },
  {
   "cell_type": "code",
   "execution_count": 4,
   "metadata": {},
   "outputs": [],
   "source": [
    "X_train, y_train = train.drop(columns=target, axis=1), train[target]\n",
    "X_test, y_test = test.drop(columns=target, axis=1), test[target]"
   ]
  },
  {
   "cell_type": "code",
   "execution_count": 5,
   "metadata": {},
   "outputs": [],
   "source": [
    "#sel_cols = target+drop_cols+bi_cols+int_cols+cat_cols\n",
    "#all_cols = train.columns.tolist()\n",
    "#num_cols = [col for col in all_cols if col not in sel_cols]\n",
    "#all_sell = target+drop_cols+bi_cols+int_cols+cat_cols+num_cols\n",
    "#print(sorted(all_sell) == sorted(all_cols))"
   ]
  },
  {
   "attachments": {},
   "cell_type": "markdown",
   "metadata": {},
   "source": [
    "### Skewed"
   ]
  },
  {
   "cell_type": "code",
   "execution_count": 6,
   "metadata": {},
   "outputs": [
    {
     "data": {
      "text/plain": [
       "['cons_12m',\n",
       " 'cons_gas_12m',\n",
       " 'cons_last_month',\n",
       " 'forecast_cons_12m',\n",
       " 'forecast_cons_year',\n",
       " 'imp_cons',\n",
       " 'margin_net_pow_ele',\n",
       " 'net_margin',\n",
       " 'pow_max',\n",
       " 'price_e_1_std',\n",
       " 'price_e_2_std',\n",
       " 'price_p_1_std',\n",
       " 'price_p_2_std']"
      ]
     },
     "execution_count": 6,
     "metadata": {},
     "output_type": "execute_result"
    }
   ],
   "source": [
    "def find_skewed_features(df, skew_thresh=4):\n",
    "    \"\"\"\n",
    "    Identify skewed numerical features in a DataFrame.\n",
    "    \n",
    "    Args:\n",
    "    df (pandas.DataFrame): Input dataframe\n",
    "    skew_thresh (float): Skewness threshold to consider a feature as skewed. Default is 4.\n",
    "    \n",
    "    Returns:\n",
    "    list: List of skewed features\n",
    "    \"\"\"\n",
    "    # Validate input\n",
    "    if not isinstance(df, pd.DataFrame):\n",
    "        raise ValueError(\"Input must be a pandas DataFrame\")\n",
    "    \n",
    "    # Calculate skewness for all columns\n",
    "    skewness = df.skew()\n",
    "    \n",
    "    # Filter out columns where skewness is more than the threshold and minimum value is non-negative\n",
    "    skewed_feats = skewness[(skewness > skew_thresh) & (df.min() >= 0)].index.tolist()\n",
    "    \n",
    "    return skewed_feats\n",
    "\n",
    "skewed_cols = find_skewed_features(train[num_cols])    \n",
    "skewed_cols"
   ]
  },
  {
   "attachments": {},
   "cell_type": "markdown",
   "metadata": {},
   "source": [
    "## Basic pipeline\n",
    "1. Drop columns in drop_cols\n",
    "2. Imputing with mode on cat_cols\n",
    "3. One hot encoding on cat_cols \n",
    "4. Min Max Scaler on num_cols"
   ]
  },
  {
   "cell_type": "code",
   "execution_count": 7,
   "metadata": {},
   "outputs": [],
   "source": [
    "from xgboost import XGBClassifier\n",
    "from sklearn.preprocessing import OneHotEncoder, MinMaxScaler, PowerTransformer, OrdinalEncoder\n",
    "from sklearn.compose import make_column_transformer\n",
    "from sklearn.feature_selection import VarianceThreshold, SelectFromModel\n",
    "from sklearn.ensemble import RandomForestClassifier\n",
    "from sklearn.pipeline import make_pipeline\n",
    "from sklearn.impute import SimpleImputer\n",
    "from sklearn.base import BaseEstimator, TransformerMixin\n",
    "\n",
    "\n",
    "# Define a custom transformer that applies Log1p transformation to specified columns\n",
    "class SelectiveLog1pTransformer(BaseEstimator, TransformerMixin):\n",
    "    def __init__(self, columns):\n",
    "        self.columns = columns\n",
    "\n",
    "    def fit(self, X, y=None):\n",
    "        return self\n",
    "\n",
    "    def transform(self, X):\n",
    "        X_transformed = X.copy()\n",
    "        X_transformed.loc[:, self.columns] = np.log1p(X_transformed.loc[:, self.columns])\n",
    "        return X_transformed\n",
    "\n",
    "\n",
    "cat_pipe = make_pipeline(\n",
    "   SimpleImputer(strategy='most_frequent'),\n",
    "   OneHotEncoder(handle_unknown='ignore')\n",
    ")\n",
    "\n",
    "# Nothing\n",
    "null_prep = make_column_transformer(\n",
    "                        (cat_pipe, cat_cols),\n",
    "                        ('drop', drop_cols),\n",
    "                        remainder='passthrough',\n",
    "                        verbose_feature_names_out=False\n",
    "\n",
    "                         )\n",
    "\n",
    "# Just scaler\n",
    "sc_prep = make_column_transformer(\n",
    "                        (cat_pipe, cat_cols),\n",
    "                        ('drop', drop_cols),\n",
    "                        (MinMaxScaler(), num_cols+int_cols),\n",
    "                        remainder='passthrough',\n",
    "                        verbose_feature_names_out=False\n",
    "\n",
    "                         )\n",
    "\n",
    "## Log1p + Scaler\n",
    "\n",
    "num_pipe = make_pipeline(SelectiveLog1pTransformer(skewed_cols), MinMaxScaler())\n",
    "log_prep = make_column_transformer(\n",
    "                        (cat_pipe, cat_cols),\n",
    "                        ('drop', drop_cols),\n",
    "                        (num_pipe, num_cols+int_cols),\n",
    "                        remainder='passthrough',\n",
    "                        verbose_feature_names_out=False\n",
    "                         )                         "
   ]
  },
  {
   "cell_type": "code",
   "execution_count": 8,
   "metadata": {},
   "outputs": [
    {
     "data": {
      "text/html": [
       "<div>\n",
       "<style scoped>\n",
       "    .dataframe tbody tr th:only-of-type {\n",
       "        vertical-align: middle;\n",
       "    }\n",
       "\n",
       "    .dataframe tbody tr th {\n",
       "        vertical-align: top;\n",
       "    }\n",
       "\n",
       "    .dataframe thead th {\n",
       "        text-align: right;\n",
       "    }\n",
       "</style>\n",
       "<table border=\"1\" class=\"dataframe\">\n",
       "  <thead>\n",
       "    <tr style=\"text-align: right;\">\n",
       "      <th></th>\n",
       "      <th>Classifier</th>\n",
       "      <th>precision</th>\n",
       "      <th>recall</th>\n",
       "      <th>f1</th>\n",
       "      <th>accuracy</th>\n",
       "      <th>roc_auc</th>\n",
       "    </tr>\n",
       "  </thead>\n",
       "  <tbody>\n",
       "    <tr>\n",
       "      <th>3</th>\n",
       "      <td>XGBoost</td>\n",
       "      <td>0.513</td>\n",
       "      <td>0.095</td>\n",
       "      <td>0.160</td>\n",
       "      <td>0.903</td>\n",
       "      <td>0.543</td>\n",
       "    </tr>\n",
       "    <tr>\n",
       "      <th>0</th>\n",
       "      <td>Dummy Stratified</td>\n",
       "      <td>0.095</td>\n",
       "      <td>0.094</td>\n",
       "      <td>0.094</td>\n",
       "      <td>0.824</td>\n",
       "      <td>0.499</td>\n",
       "    </tr>\n",
       "    <tr>\n",
       "      <th>1</th>\n",
       "      <td>Random Forest</td>\n",
       "      <td>0.775</td>\n",
       "      <td>0.038</td>\n",
       "      <td>0.072</td>\n",
       "      <td>0.906</td>\n",
       "      <td>0.518</td>\n",
       "    </tr>\n",
       "    <tr>\n",
       "      <th>2</th>\n",
       "      <td>Logistic Regression</td>\n",
       "      <td>0.083</td>\n",
       "      <td>0.010</td>\n",
       "      <td>0.017</td>\n",
       "      <td>0.900</td>\n",
       "      <td>0.503</td>\n",
       "    </tr>\n",
       "  </tbody>\n",
       "</table>\n",
       "</div>"
      ],
      "text/plain": [
       "            Classifier  precision  recall    f1  accuracy  roc_auc\n",
       "3              XGBoost      0.513   0.095 0.160     0.903    0.543\n",
       "0     Dummy Stratified      0.095   0.094 0.094     0.824    0.499\n",
       "1        Random Forest      0.775   0.038 0.072     0.906    0.518\n",
       "2  Logistic Regression      0.083   0.010 0.017     0.900    0.503"
      ]
     },
     "execution_count": 8,
     "metadata": {},
     "output_type": "execute_result"
    }
   ],
   "source": [
    "from sklearn.pipeline import make_pipeline\n",
    "from sklearn.dummy import DummyClassifier\n",
    "from sklearn.ensemble import RandomForestClassifier\n",
    "from sklearn.linear_model import LogisticRegression\n",
    "from sklearn.svm import SVC\n",
    "import xgboost as xgb\n",
    "from sklearn.model_selection import StratifiedKFold, cross_validate\n",
    "from sklearn.metrics import make_scorer, precision_score, recall_score, f1_score, accuracy_score, roc_auc_score\n",
    "\n",
    "def evaluate_models(models, X_train, y_train, cv_splits=5, scoring_metrics=None, seed=None):\n",
    "    if scoring_metrics is None:\n",
    "        scoring_metrics = {\n",
    "            'precision': make_scorer(precision_score),\n",
    "            'recall': make_scorer(recall_score),\n",
    "            'f1': make_scorer(f1_score),\n",
    "            'accuracy': make_scorer(accuracy_score),\n",
    "            'roc_auc': make_scorer(roc_auc_score)\n",
    "        }\n",
    "\n",
    "    cv = StratifiedKFold(n_splits=cv_splits, shuffle=True, random_state=seed)\n",
    "\n",
    "    results = []\n",
    "    for model_name, pipeline, Model, model_params in models:\n",
    "        try:\n",
    "            model = make_pipeline(pipeline, Model(**model_params, random_state=seed))\n",
    "            scores = cross_validate(model, X_train, y_train, scoring=scoring_metrics, cv=cv, n_jobs=-1)\n",
    "            mean_scores = {metric: scores[f'test_{metric}'].mean() for metric in scoring_metrics}\n",
    "            result = {'Classifier': model_name, **mean_scores}\n",
    "            results.append(result)\n",
    "        except Exception as e:\n",
    "            print(f\"Error evaluating classifier {model_name}: {e}\")\n",
    "\n",
    "    df_results = pd.DataFrame(results).round(3)\n",
    "    return df_results\n",
    "\n",
    "\n",
    "models = [\n",
    "    ('Dummy Stratified', null_prep, DummyClassifier, {'strategy': 'stratified'}),    \n",
    "    ('Random Forest', null_prep, RandomForestClassifier, {}),\n",
    "    ('Logistic Regression', null_prep, LogisticRegression, {}),\n",
    "    ('XGBoost', null_prep, xgb.XGBClassifier, {})\n",
    "]\n",
    "null_results = evaluate_models(models, X_train, y_train, seed=SEED)\n",
    "null_results.sort_values(by='f1', ascending=False)"
   ]
  },
  {
   "cell_type": "code",
   "execution_count": 17,
   "metadata": {},
   "outputs": [
    {
     "data": {
      "text/html": [
       "<div>\n",
       "<style scoped>\n",
       "    .dataframe tbody tr th:only-of-type {\n",
       "        vertical-align: middle;\n",
       "    }\n",
       "\n",
       "    .dataframe tbody tr th {\n",
       "        vertical-align: top;\n",
       "    }\n",
       "\n",
       "    .dataframe thead th {\n",
       "        text-align: right;\n",
       "    }\n",
       "</style>\n",
       "<table border=\"1\" class=\"dataframe\">\n",
       "  <thead>\n",
       "    <tr style=\"text-align: right;\">\n",
       "      <th></th>\n",
       "      <th>Classifier</th>\n",
       "      <th>precision</th>\n",
       "      <th>recall</th>\n",
       "      <th>f1</th>\n",
       "      <th>accuracy</th>\n",
       "      <th>roc_auc</th>\n",
       "    </tr>\n",
       "  </thead>\n",
       "  <tbody>\n",
       "    <tr>\n",
       "      <th>0</th>\n",
       "      <td>null_XGBoost</td>\n",
       "      <td>0.513</td>\n",
       "      <td>0.095</td>\n",
       "      <td>0.160</td>\n",
       "      <td>0.903</td>\n",
       "      <td>0.543</td>\n",
       "    </tr>\n",
       "    <tr>\n",
       "      <th>0</th>\n",
       "      <td>sc_XGBoost</td>\n",
       "      <td>0.489</td>\n",
       "      <td>0.089</td>\n",
       "      <td>0.150</td>\n",
       "      <td>0.903</td>\n",
       "      <td>0.540</td>\n",
       "    </tr>\n",
       "    <tr>\n",
       "      <th>0</th>\n",
       "      <td>log_prep_XGBoost</td>\n",
       "      <td>0.456</td>\n",
       "      <td>0.088</td>\n",
       "      <td>0.148</td>\n",
       "      <td>0.901</td>\n",
       "      <td>0.538</td>\n",
       "    </tr>\n",
       "    <tr>\n",
       "      <th>0</th>\n",
       "      <td>log_prep_LightGBM</td>\n",
       "      <td>0.587</td>\n",
       "      <td>0.059</td>\n",
       "      <td>0.107</td>\n",
       "      <td>0.904</td>\n",
       "      <td>0.527</td>\n",
       "    </tr>\n",
       "    <tr>\n",
       "      <th>0</th>\n",
       "      <td>sc_LightGBM</td>\n",
       "      <td>0.578</td>\n",
       "      <td>0.056</td>\n",
       "      <td>0.101</td>\n",
       "      <td>0.904</td>\n",
       "      <td>0.525</td>\n",
       "    </tr>\n",
       "    <tr>\n",
       "      <th>0</th>\n",
       "      <td>null_LightGBM</td>\n",
       "      <td>0.571</td>\n",
       "      <td>0.053</td>\n",
       "      <td>0.096</td>\n",
       "      <td>0.904</td>\n",
       "      <td>0.524</td>\n",
       "    </tr>\n",
       "    <tr>\n",
       "      <th>0</th>\n",
       "      <td>null_Random Forest</td>\n",
       "      <td>0.775</td>\n",
       "      <td>0.038</td>\n",
       "      <td>0.072</td>\n",
       "      <td>0.906</td>\n",
       "      <td>0.518</td>\n",
       "    </tr>\n",
       "    <tr>\n",
       "      <th>0</th>\n",
       "      <td>sc_Random Forest</td>\n",
       "      <td>0.733</td>\n",
       "      <td>0.038</td>\n",
       "      <td>0.072</td>\n",
       "      <td>0.905</td>\n",
       "      <td>0.518</td>\n",
       "    </tr>\n",
       "    <tr>\n",
       "      <th>0</th>\n",
       "      <td>log_prep_Random Forest</td>\n",
       "      <td>0.796</td>\n",
       "      <td>0.035</td>\n",
       "      <td>0.067</td>\n",
       "      <td>0.905</td>\n",
       "      <td>0.517</td>\n",
       "    </tr>\n",
       "    <tr>\n",
       "      <th>0</th>\n",
       "      <td>null_Logistic Regression</td>\n",
       "      <td>0.083</td>\n",
       "      <td>0.010</td>\n",
       "      <td>0.017</td>\n",
       "      <td>0.900</td>\n",
       "      <td>0.503</td>\n",
       "    </tr>\n",
       "    <tr>\n",
       "      <th>0</th>\n",
       "      <td>sc_Logistic Regression</td>\n",
       "      <td>0.200</td>\n",
       "      <td>0.001</td>\n",
       "      <td>0.002</td>\n",
       "      <td>0.903</td>\n",
       "      <td>0.500</td>\n",
       "    </tr>\n",
       "    <tr>\n",
       "      <th>0</th>\n",
       "      <td>log_prep_Logistic Regression</td>\n",
       "      <td>0.000</td>\n",
       "      <td>0.000</td>\n",
       "      <td>0.000</td>\n",
       "      <td>0.903</td>\n",
       "      <td>0.500</td>\n",
       "    </tr>\n",
       "  </tbody>\n",
       "</table>\n",
       "</div>"
      ],
      "text/plain": [
       "                     Classifier  precision  recall    f1  accuracy  roc_auc\n",
       "0                  null_XGBoost      0.513   0.095 0.160     0.903    0.543\n",
       "0                    sc_XGBoost      0.489   0.089 0.150     0.903    0.540\n",
       "0              log_prep_XGBoost      0.456   0.088 0.148     0.901    0.538\n",
       "0             log_prep_LightGBM      0.587   0.059 0.107     0.904    0.527\n",
       "0                   sc_LightGBM      0.578   0.056 0.101     0.904    0.525\n",
       "0                 null_LightGBM      0.571   0.053 0.096     0.904    0.524\n",
       "0            null_Random Forest      0.775   0.038 0.072     0.906    0.518\n",
       "0              sc_Random Forest      0.733   0.038 0.072     0.905    0.518\n",
       "0        log_prep_Random Forest      0.796   0.035 0.067     0.905    0.517\n",
       "0      null_Logistic Regression      0.083   0.010 0.017     0.900    0.503\n",
       "0        sc_Logistic Regression      0.200   0.001 0.002     0.903    0.500\n",
       "0  log_prep_Logistic Regression      0.000   0.000 0.000     0.903    0.500"
      ]
     },
     "execution_count": 17,
     "metadata": {},
     "output_type": "execute_result"
    }
   ],
   "source": [
    "from lightgbm import LGBMClassifier\n",
    "\n",
    "pipelines = {\n",
    "   'null':null_prep,\n",
    "   'sc':sc_prep,\n",
    "   'log_prep':log_prep,\n",
    "\n",
    "}\n",
    "\n",
    "model_definitions = [\n",
    "    ('Random Forest', RandomForestClassifier, {}),\n",
    "    ('Logistic Regression', LogisticRegression, {}),\n",
    "    ('LightGBM', LGBMClassifier, {}),\n",
    "    ('XGBoost', xgb.XGBClassifier, {})\n",
    "]\n",
    "\n",
    "\n",
    "results = []\n",
    "\n",
    "for pipeline_name, pipeline in pipelines.items():\n",
    "    for model_name, Model, model_params in model_definitions:\n",
    "        model_full_name = f'{pipeline_name}_{model_name}'\n",
    "        models = [(model_full_name, pipeline, Model, model_params)]\n",
    "        model_results = evaluate_models(models, X_train, y_train, seed=SEED)\n",
    "        results.append(model_results)\n",
    "\n",
    "# combine all dataframes\n",
    "results_df = pd.concat(results)\n",
    "results_df.sort_values(by='f1', ascending=False)"
   ]
  },
  {
   "cell_type": "code",
   "execution_count": null,
   "metadata": {},
   "outputs": [],
   "source": [
    "'sales_channel_id','n_actv_ps','years_as_client','first_ec_id'"
   ]
  },
  {
   "cell_type": "code",
   "execution_count": 19,
   "metadata": {},
   "outputs": [
    {
     "data": {
      "text/plain": [
       "Index(['id', 'sales_channel_id', 'cons_12m', 'cons_gas_12m', 'cons_last_month',\n",
       "       'date_activ', 'date_end', 'date_modif_prod', 'date_renewal',\n",
       "       'forecast_cons_12m', 'forecast_cons_year', 'forecast_discount_energy',\n",
       "       'forecast_meter_rent_12m', 'forecast_price_e_1', 'forecast_price_e_2',\n",
       "       'forecast_price_p_1', 'has_gas', 'imp_cons', 'margin_gross_pow_ele',\n",
       "       'margin_net_pow_ele', 'n_actv_ps', 'net_margin', 'years_as_client',\n",
       "       'first_ec_id', 'pow_max', 'price_e_1_diff_dec_jan',\n",
       "       'price_e_2_diff_dec_jan', 'price_e_3_diff_dec_jan',\n",
       "       'price_p_1_diff_dec_jan', 'price_p_2_diff_dec_jan',\n",
       "       'price_p_3_diff_dec_jan', 'price_e_1_mean', 'price_e_1_std',\n",
       "       'price_e_2_mean', 'price_e_2_std', 'price_e_3_mean', 'price_e_3_std',\n",
       "       'price_p_1_mean', 'price_p_1_std', 'price_p_2_mean', 'price_p_2_std',\n",
       "       'price_p_3_mean', 'price_p_3_std', 'price_e_1_zero', 'price_e_2_zero',\n",
       "       'price_e_3_zero', 'price_p_1_zero', 'price_p_2_zero', 'price_p_3_zero'],\n",
       "      dtype='object')"
      ]
     },
     "execution_count": 19,
     "metadata": {},
     "output_type": "execute_result"
    }
   ],
   "source": [
    "X_train.columns"
   ]
  },
  {
   "attachments": {},
   "cell_type": "markdown",
   "metadata": {},
   "source": [
    "### Evaluate models with SMOTE"
   ]
  },
  {
   "cell_type": "code",
   "execution_count": 243,
   "metadata": {},
   "outputs": [],
   "source": [
    "from imblearn.pipeline import make_pipeline as imb_pipe\n",
    "# Over-sampling using SMOTE\n",
    "from imblearn.over_sampling import SMOTE\n",
    "\n",
    "smote = SMOTE(sampling_strategy='auto')\n",
    "\n",
    "models = [\n",
    "    ('Dummy Stratified', null_prep, SMOTE(sampling_strategy='auto'), DummyClassifier, {'strategy': 'stratified'}),    \n",
    "    ('Random Forest', null_prep, SMOTE(sampling_strategy='auto'), RandomForestClassifier, {}),\n",
    "    ('Logistic Regression',SMOTE(sampling_strategy='auto'), null_prep, LogisticRegression, {}),\n",
    "    ('XGBoost', SMOTE(sampling_strategy='auto'),null_prep, xgb.XGBClassifier, {})\n",
    "]\n",
    "\n",
    "imb_pipe = imb_pipe(null_prep, smote, model)\n",
    "    \n",
    "#sm_null_results = evaluate_models(models, X_train, y_train, seed=SEED)\n",
    "#sm_null_results.sort_values(by='f1', ascending=False)"
   ]
  },
  {
   "cell_type": "code",
   "execution_count": 248,
   "metadata": {},
   "outputs": [
    {
     "name": "stderr",
     "output_type": "stream",
     "text": [
      "c:\\ProgramData\\Anaconda3\\envs\\env_full\\lib\\site-packages\\imblearn\\pipeline.py:272: DataConversionWarning: A column-vector y was passed when a 1d array was expected. Please change the shape of y to (n_samples,), for example using ravel().\n",
      "  self._final_estimator.fit(Xt, yt, **fit_params_last_step)\n",
      "c:\\ProgramData\\Anaconda3\\envs\\env_full\\lib\\site-packages\\imblearn\\pipeline.py:272: DataConversionWarning: A column-vector y was passed when a 1d array was expected. Please change the shape of y to (n_samples,), for example using ravel().\n",
      "  self._final_estimator.fit(Xt, yt, **fit_params_last_step)\n",
      "c:\\ProgramData\\Anaconda3\\envs\\env_full\\lib\\site-packages\\imblearn\\pipeline.py:272: DataConversionWarning: A column-vector y was passed when a 1d array was expected. Please change the shape of y to (n_samples,), for example using ravel().\n",
      "  self._final_estimator.fit(Xt, yt, **fit_params_last_step)\n",
      "c:\\ProgramData\\Anaconda3\\envs\\env_full\\lib\\site-packages\\imblearn\\pipeline.py:272: DataConversionWarning: A column-vector y was passed when a 1d array was expected. Please change the shape of y to (n_samples,), for example using ravel().\n",
      "  self._final_estimator.fit(Xt, yt, **fit_params_last_step)\n",
      "c:\\ProgramData\\Anaconda3\\envs\\env_full\\lib\\site-packages\\imblearn\\pipeline.py:272: DataConversionWarning: A column-vector y was passed when a 1d array was expected. Please change the shape of y to (n_samples,), for example using ravel().\n",
      "  self._final_estimator.fit(Xt, yt, **fit_params_last_step)\n",
      "c:\\ProgramData\\Anaconda3\\envs\\env_full\\lib\\site-packages\\sklearn\\utils\\validation.py:1111: DataConversionWarning: A column-vector y was passed when a 1d array was expected. Please change the shape of y to (n_samples, ), for example using ravel().\n",
      "  y = column_or_1d(y, warn=True)\n",
      "c:\\ProgramData\\Anaconda3\\envs\\env_full\\lib\\site-packages\\sklearn\\utils\\validation.py:1111: DataConversionWarning: A column-vector y was passed when a 1d array was expected. Please change the shape of y to (n_samples, ), for example using ravel().\n",
      "  y = column_or_1d(y, warn=True)\n",
      "c:\\ProgramData\\Anaconda3\\envs\\env_full\\lib\\site-packages\\sklearn\\linear_model\\_logistic.py:444: ConvergenceWarning: lbfgs failed to converge (status=1):\n",
      "STOP: TOTAL NO. of ITERATIONS REACHED LIMIT.\n",
      "\n",
      "Increase the number of iterations (max_iter) or scale the data as shown in:\n",
      "    https://scikit-learn.org/stable/modules/preprocessing.html\n",
      "Please also refer to the documentation for alternative solver options:\n",
      "    https://scikit-learn.org/stable/modules/linear_model.html#logistic-regression\n",
      "  n_iter_i = _check_optimize_result(\n",
      "c:\\ProgramData\\Anaconda3\\envs\\env_full\\lib\\site-packages\\sklearn\\utils\\validation.py:1111: DataConversionWarning: A column-vector y was passed when a 1d array was expected. Please change the shape of y to (n_samples, ), for example using ravel().\n",
      "  y = column_or_1d(y, warn=True)\n",
      "c:\\ProgramData\\Anaconda3\\envs\\env_full\\lib\\site-packages\\sklearn\\linear_model\\_logistic.py:444: ConvergenceWarning: lbfgs failed to converge (status=1):\n",
      "STOP: TOTAL NO. of ITERATIONS REACHED LIMIT.\n",
      "\n",
      "Increase the number of iterations (max_iter) or scale the data as shown in:\n",
      "    https://scikit-learn.org/stable/modules/preprocessing.html\n",
      "Please also refer to the documentation for alternative solver options:\n",
      "    https://scikit-learn.org/stable/modules/linear_model.html#logistic-regression\n",
      "  n_iter_i = _check_optimize_result(\n",
      "c:\\ProgramData\\Anaconda3\\envs\\env_full\\lib\\site-packages\\sklearn\\utils\\validation.py:1111: DataConversionWarning: A column-vector y was passed when a 1d array was expected. Please change the shape of y to (n_samples, ), for example using ravel().\n",
      "  y = column_or_1d(y, warn=True)\n",
      "c:\\ProgramData\\Anaconda3\\envs\\env_full\\lib\\site-packages\\sklearn\\linear_model\\_logistic.py:444: ConvergenceWarning: lbfgs failed to converge (status=1):\n",
      "STOP: TOTAL NO. of ITERATIONS REACHED LIMIT.\n",
      "\n",
      "Increase the number of iterations (max_iter) or scale the data as shown in:\n",
      "    https://scikit-learn.org/stable/modules/preprocessing.html\n",
      "Please also refer to the documentation for alternative solver options:\n",
      "    https://scikit-learn.org/stable/modules/linear_model.html#logistic-regression\n",
      "  n_iter_i = _check_optimize_result(\n",
      "c:\\ProgramData\\Anaconda3\\envs\\env_full\\lib\\site-packages\\sklearn\\utils\\validation.py:1111: DataConversionWarning: A column-vector y was passed when a 1d array was expected. Please change the shape of y to (n_samples, ), for example using ravel().\n",
      "  y = column_or_1d(y, warn=True)\n",
      "c:\\ProgramData\\Anaconda3\\envs\\env_full\\lib\\site-packages\\sklearn\\linear_model\\_logistic.py:444: ConvergenceWarning: lbfgs failed to converge (status=1):\n",
      "STOP: TOTAL NO. of ITERATIONS REACHED LIMIT.\n",
      "\n",
      "Increase the number of iterations (max_iter) or scale the data as shown in:\n",
      "    https://scikit-learn.org/stable/modules/preprocessing.html\n",
      "Please also refer to the documentation for alternative solver options:\n",
      "    https://scikit-learn.org/stable/modules/linear_model.html#logistic-regression\n",
      "  n_iter_i = _check_optimize_result(\n",
      "c:\\ProgramData\\Anaconda3\\envs\\env_full\\lib\\site-packages\\xgboost\\sklearn.py:1224: UserWarning: The use of label encoder in XGBClassifier is deprecated and will be removed in a future release. To remove this warning, do the following: 1) Pass option use_label_encoder=False when constructing XGBClassifier object; and 2) Encode your labels (y) as integers starting with 0, i.e. 0, 1, 2, ..., [num_class - 1].\n",
      "  warnings.warn(label_encoder_deprecation_msg, UserWarning)\n",
      "c:\\ProgramData\\Anaconda3\\envs\\env_full\\lib\\site-packages\\sklearn\\preprocessing\\_label.py:98: DataConversionWarning: A column-vector y was passed when a 1d array was expected. Please change the shape of y to (n_samples, ), for example using ravel().\n",
      "  y = column_or_1d(y, warn=True)\n",
      "c:\\ProgramData\\Anaconda3\\envs\\env_full\\lib\\site-packages\\sklearn\\preprocessing\\_label.py:133: DataConversionWarning: A column-vector y was passed when a 1d array was expected. Please change the shape of y to (n_samples, ), for example using ravel().\n",
      "  y = column_or_1d(y, warn=True)\n"
     ]
    },
    {
     "name": "stdout",
     "output_type": "stream",
     "text": [
      "[13:02:34] WARNING: C:/Users/Administrator/workspace/xgboost-win64_release_1.5.1/src/learner.cc:1115: Starting in XGBoost 1.3.0, the default evaluation metric used with the objective 'binary:logistic' was changed from 'error' to 'logloss'. Explicitly set eval_metric if you'd like to restore the old behavior.\n"
     ]
    },
    {
     "name": "stderr",
     "output_type": "stream",
     "text": [
      "c:\\ProgramData\\Anaconda3\\envs\\env_full\\lib\\site-packages\\xgboost\\sklearn.py:1224: UserWarning: The use of label encoder in XGBClassifier is deprecated and will be removed in a future release. To remove this warning, do the following: 1) Pass option use_label_encoder=False when constructing XGBClassifier object; and 2) Encode your labels (y) as integers starting with 0, i.e. 0, 1, 2, ..., [num_class - 1].\n",
      "  warnings.warn(label_encoder_deprecation_msg, UserWarning)\n",
      "c:\\ProgramData\\Anaconda3\\envs\\env_full\\lib\\site-packages\\sklearn\\preprocessing\\_label.py:98: DataConversionWarning: A column-vector y was passed when a 1d array was expected. Please change the shape of y to (n_samples, ), for example using ravel().\n",
      "  y = column_or_1d(y, warn=True)\n",
      "c:\\ProgramData\\Anaconda3\\envs\\env_full\\lib\\site-packages\\sklearn\\preprocessing\\_label.py:133: DataConversionWarning: A column-vector y was passed when a 1d array was expected. Please change the shape of y to (n_samples, ), for example using ravel().\n",
      "  y = column_or_1d(y, warn=True)\n"
     ]
    },
    {
     "name": "stdout",
     "output_type": "stream",
     "text": [
      "[13:02:39] WARNING: C:/Users/Administrator/workspace/xgboost-win64_release_1.5.1/src/learner.cc:1115: Starting in XGBoost 1.3.0, the default evaluation metric used with the objective 'binary:logistic' was changed from 'error' to 'logloss'. Explicitly set eval_metric if you'd like to restore the old behavior.\n"
     ]
    },
    {
     "name": "stderr",
     "output_type": "stream",
     "text": [
      "c:\\ProgramData\\Anaconda3\\envs\\env_full\\lib\\site-packages\\xgboost\\sklearn.py:1224: UserWarning: The use of label encoder in XGBClassifier is deprecated and will be removed in a future release. To remove this warning, do the following: 1) Pass option use_label_encoder=False when constructing XGBClassifier object; and 2) Encode your labels (y) as integers starting with 0, i.e. 0, 1, 2, ..., [num_class - 1].\n",
      "  warnings.warn(label_encoder_deprecation_msg, UserWarning)\n",
      "c:\\ProgramData\\Anaconda3\\envs\\env_full\\lib\\site-packages\\sklearn\\preprocessing\\_label.py:98: DataConversionWarning: A column-vector y was passed when a 1d array was expected. Please change the shape of y to (n_samples, ), for example using ravel().\n",
      "  y = column_or_1d(y, warn=True)\n",
      "c:\\ProgramData\\Anaconda3\\envs\\env_full\\lib\\site-packages\\sklearn\\preprocessing\\_label.py:133: DataConversionWarning: A column-vector y was passed when a 1d array was expected. Please change the shape of y to (n_samples, ), for example using ravel().\n",
      "  y = column_or_1d(y, warn=True)\n"
     ]
    },
    {
     "name": "stdout",
     "output_type": "stream",
     "text": [
      "[13:02:44] WARNING: C:/Users/Administrator/workspace/xgboost-win64_release_1.5.1/src/learner.cc:1115: Starting in XGBoost 1.3.0, the default evaluation metric used with the objective 'binary:logistic' was changed from 'error' to 'logloss'. Explicitly set eval_metric if you'd like to restore the old behavior.\n"
     ]
    },
    {
     "name": "stderr",
     "output_type": "stream",
     "text": [
      "c:\\ProgramData\\Anaconda3\\envs\\env_full\\lib\\site-packages\\xgboost\\sklearn.py:1224: UserWarning: The use of label encoder in XGBClassifier is deprecated and will be removed in a future release. To remove this warning, do the following: 1) Pass option use_label_encoder=False when constructing XGBClassifier object; and 2) Encode your labels (y) as integers starting with 0, i.e. 0, 1, 2, ..., [num_class - 1].\n",
      "  warnings.warn(label_encoder_deprecation_msg, UserWarning)\n",
      "c:\\ProgramData\\Anaconda3\\envs\\env_full\\lib\\site-packages\\sklearn\\preprocessing\\_label.py:98: DataConversionWarning: A column-vector y was passed when a 1d array was expected. Please change the shape of y to (n_samples, ), for example using ravel().\n",
      "  y = column_or_1d(y, warn=True)\n",
      "c:\\ProgramData\\Anaconda3\\envs\\env_full\\lib\\site-packages\\sklearn\\preprocessing\\_label.py:133: DataConversionWarning: A column-vector y was passed when a 1d array was expected. Please change the shape of y to (n_samples, ), for example using ravel().\n",
      "  y = column_or_1d(y, warn=True)\n"
     ]
    },
    {
     "name": "stdout",
     "output_type": "stream",
     "text": [
      "[13:02:50] WARNING: C:/Users/Administrator/workspace/xgboost-win64_release_1.5.1/src/learner.cc:1115: Starting in XGBoost 1.3.0, the default evaluation metric used with the objective 'binary:logistic' was changed from 'error' to 'logloss'. Explicitly set eval_metric if you'd like to restore the old behavior.\n"
     ]
    },
    {
     "name": "stderr",
     "output_type": "stream",
     "text": [
      "c:\\ProgramData\\Anaconda3\\envs\\env_full\\lib\\site-packages\\xgboost\\sklearn.py:1224: UserWarning: The use of label encoder in XGBClassifier is deprecated and will be removed in a future release. To remove this warning, do the following: 1) Pass option use_label_encoder=False when constructing XGBClassifier object; and 2) Encode your labels (y) as integers starting with 0, i.e. 0, 1, 2, ..., [num_class - 1].\n",
      "  warnings.warn(label_encoder_deprecation_msg, UserWarning)\n",
      "c:\\ProgramData\\Anaconda3\\envs\\env_full\\lib\\site-packages\\sklearn\\preprocessing\\_label.py:98: DataConversionWarning: A column-vector y was passed when a 1d array was expected. Please change the shape of y to (n_samples, ), for example using ravel().\n",
      "  y = column_or_1d(y, warn=True)\n",
      "c:\\ProgramData\\Anaconda3\\envs\\env_full\\lib\\site-packages\\sklearn\\preprocessing\\_label.py:133: DataConversionWarning: A column-vector y was passed when a 1d array was expected. Please change the shape of y to (n_samples, ), for example using ravel().\n",
      "  y = column_or_1d(y, warn=True)\n"
     ]
    },
    {
     "name": "stdout",
     "output_type": "stream",
     "text": [
      "[13:02:54] WARNING: C:/Users/Administrator/workspace/xgboost-win64_release_1.5.1/src/learner.cc:1115: Starting in XGBoost 1.3.0, the default evaluation metric used with the objective 'binary:logistic' was changed from 'error' to 'logloss'. Explicitly set eval_metric if you'd like to restore the old behavior.\n"
     ]
    },
    {
     "name": "stderr",
     "output_type": "stream",
     "text": [
      "c:\\ProgramData\\Anaconda3\\envs\\env_full\\lib\\site-packages\\sklearn\\preprocessing\\_label.py:98: DataConversionWarning: A column-vector y was passed when a 1d array was expected. Please change the shape of y to (n_samples, ), for example using ravel().\n",
      "  y = column_or_1d(y, warn=True)\n",
      "c:\\ProgramData\\Anaconda3\\envs\\env_full\\lib\\site-packages\\sklearn\\preprocessing\\_label.py:133: DataConversionWarning: A column-vector y was passed when a 1d array was expected. Please change the shape of y to (n_samples, ), for example using ravel().\n",
      "  y = column_or_1d(y, warn=True)\n",
      "c:\\ProgramData\\Anaconda3\\envs\\env_full\\lib\\site-packages\\sklearn\\preprocessing\\_label.py:98: DataConversionWarning: A column-vector y was passed when a 1d array was expected. Please change the shape of y to (n_samples, ), for example using ravel().\n",
      "  y = column_or_1d(y, warn=True)\n",
      "c:\\ProgramData\\Anaconda3\\envs\\env_full\\lib\\site-packages\\sklearn\\preprocessing\\_label.py:133: DataConversionWarning: A column-vector y was passed when a 1d array was expected. Please change the shape of y to (n_samples, ), for example using ravel().\n",
      "  y = column_or_1d(y, warn=True)\n",
      "c:\\ProgramData\\Anaconda3\\envs\\env_full\\lib\\site-packages\\sklearn\\preprocessing\\_label.py:98: DataConversionWarning: A column-vector y was passed when a 1d array was expected. Please change the shape of y to (n_samples, ), for example using ravel().\n",
      "  y = column_or_1d(y, warn=True)\n",
      "c:\\ProgramData\\Anaconda3\\envs\\env_full\\lib\\site-packages\\sklearn\\preprocessing\\_label.py:133: DataConversionWarning: A column-vector y was passed when a 1d array was expected. Please change the shape of y to (n_samples, ), for example using ravel().\n",
      "  y = column_or_1d(y, warn=True)\n",
      "c:\\ProgramData\\Anaconda3\\envs\\env_full\\lib\\site-packages\\sklearn\\preprocessing\\_label.py:98: DataConversionWarning: A column-vector y was passed when a 1d array was expected. Please change the shape of y to (n_samples, ), for example using ravel().\n",
      "  y = column_or_1d(y, warn=True)\n",
      "c:\\ProgramData\\Anaconda3\\envs\\env_full\\lib\\site-packages\\sklearn\\preprocessing\\_label.py:133: DataConversionWarning: A column-vector y was passed when a 1d array was expected. Please change the shape of y to (n_samples, ), for example using ravel().\n",
      "  y = column_or_1d(y, warn=True)\n",
      "c:\\ProgramData\\Anaconda3\\envs\\env_full\\lib\\site-packages\\sklearn\\preprocessing\\_label.py:98: DataConversionWarning: A column-vector y was passed when a 1d array was expected. Please change the shape of y to (n_samples, ), for example using ravel().\n",
      "  y = column_or_1d(y, warn=True)\n",
      "c:\\ProgramData\\Anaconda3\\envs\\env_full\\lib\\site-packages\\sklearn\\preprocessing\\_label.py:133: DataConversionWarning: A column-vector y was passed when a 1d array was expected. Please change the shape of y to (n_samples, ), for example using ravel().\n",
      "  y = column_or_1d(y, warn=True)\n",
      "c:\\ProgramData\\Anaconda3\\envs\\env_full\\lib\\site-packages\\imblearn\\pipeline.py:272: DataConversionWarning: A column-vector y was passed when a 1d array was expected. Please change the shape of y to (n_samples,), for example using ravel().\n",
      "  self._final_estimator.fit(Xt, yt, **fit_params_last_step)\n",
      "c:\\ProgramData\\Anaconda3\\envs\\env_full\\lib\\site-packages\\imblearn\\pipeline.py:272: DataConversionWarning: A column-vector y was passed when a 1d array was expected. Please change the shape of y to (n_samples,), for example using ravel().\n",
      "  self._final_estimator.fit(Xt, yt, **fit_params_last_step)\n",
      "c:\\ProgramData\\Anaconda3\\envs\\env_full\\lib\\site-packages\\imblearn\\pipeline.py:272: DataConversionWarning: A column-vector y was passed when a 1d array was expected. Please change the shape of y to (n_samples,), for example using ravel().\n",
      "  self._final_estimator.fit(Xt, yt, **fit_params_last_step)\n",
      "c:\\ProgramData\\Anaconda3\\envs\\env_full\\lib\\site-packages\\imblearn\\pipeline.py:272: DataConversionWarning: A column-vector y was passed when a 1d array was expected. Please change the shape of y to (n_samples,), for example using ravel().\n",
      "  self._final_estimator.fit(Xt, yt, **fit_params_last_step)\n",
      "c:\\ProgramData\\Anaconda3\\envs\\env_full\\lib\\site-packages\\imblearn\\pipeline.py:272: DataConversionWarning: A column-vector y was passed when a 1d array was expected. Please change the shape of y to (n_samples,), for example using ravel().\n",
      "  self._final_estimator.fit(Xt, yt, **fit_params_last_step)\n",
      "c:\\ProgramData\\Anaconda3\\envs\\env_full\\lib\\site-packages\\sklearn\\utils\\validation.py:1111: DataConversionWarning: A column-vector y was passed when a 1d array was expected. Please change the shape of y to (n_samples, ), for example using ravel().\n",
      "  y = column_or_1d(y, warn=True)\n",
      "c:\\ProgramData\\Anaconda3\\envs\\env_full\\lib\\site-packages\\sklearn\\linear_model\\_logistic.py:444: ConvergenceWarning: lbfgs failed to converge (status=1):\n",
      "STOP: TOTAL NO. of ITERATIONS REACHED LIMIT.\n",
      "\n",
      "Increase the number of iterations (max_iter) or scale the data as shown in:\n",
      "    https://scikit-learn.org/stable/modules/preprocessing.html\n",
      "Please also refer to the documentation for alternative solver options:\n",
      "    https://scikit-learn.org/stable/modules/linear_model.html#logistic-regression\n",
      "  n_iter_i = _check_optimize_result(\n",
      "c:\\ProgramData\\Anaconda3\\envs\\env_full\\lib\\site-packages\\sklearn\\utils\\validation.py:1111: DataConversionWarning: A column-vector y was passed when a 1d array was expected. Please change the shape of y to (n_samples, ), for example using ravel().\n",
      "  y = column_or_1d(y, warn=True)\n",
      "c:\\ProgramData\\Anaconda3\\envs\\env_full\\lib\\site-packages\\sklearn\\linear_model\\_logistic.py:444: ConvergenceWarning: lbfgs failed to converge (status=1):\n",
      "STOP: TOTAL NO. of ITERATIONS REACHED LIMIT.\n",
      "\n",
      "Increase the number of iterations (max_iter) or scale the data as shown in:\n",
      "    https://scikit-learn.org/stable/modules/preprocessing.html\n",
      "Please also refer to the documentation for alternative solver options:\n",
      "    https://scikit-learn.org/stable/modules/linear_model.html#logistic-regression\n",
      "  n_iter_i = _check_optimize_result(\n",
      "c:\\ProgramData\\Anaconda3\\envs\\env_full\\lib\\site-packages\\sklearn\\utils\\validation.py:1111: DataConversionWarning: A column-vector y was passed when a 1d array was expected. Please change the shape of y to (n_samples, ), for example using ravel().\n",
      "  y = column_or_1d(y, warn=True)\n",
      "c:\\ProgramData\\Anaconda3\\envs\\env_full\\lib\\site-packages\\sklearn\\linear_model\\_logistic.py:444: ConvergenceWarning: lbfgs failed to converge (status=1):\n",
      "STOP: TOTAL NO. of ITERATIONS REACHED LIMIT.\n",
      "\n",
      "Increase the number of iterations (max_iter) or scale the data as shown in:\n",
      "    https://scikit-learn.org/stable/modules/preprocessing.html\n",
      "Please also refer to the documentation for alternative solver options:\n",
      "    https://scikit-learn.org/stable/modules/linear_model.html#logistic-regression\n",
      "  n_iter_i = _check_optimize_result(\n",
      "c:\\ProgramData\\Anaconda3\\envs\\env_full\\lib\\site-packages\\sklearn\\utils\\validation.py:1111: DataConversionWarning: A column-vector y was passed when a 1d array was expected. Please change the shape of y to (n_samples, ), for example using ravel().\n",
      "  y = column_or_1d(y, warn=True)\n",
      "c:\\ProgramData\\Anaconda3\\envs\\env_full\\lib\\site-packages\\sklearn\\linear_model\\_logistic.py:444: ConvergenceWarning: lbfgs failed to converge (status=1):\n",
      "STOP: TOTAL NO. of ITERATIONS REACHED LIMIT.\n",
      "\n",
      "Increase the number of iterations (max_iter) or scale the data as shown in:\n",
      "    https://scikit-learn.org/stable/modules/preprocessing.html\n",
      "Please also refer to the documentation for alternative solver options:\n",
      "    https://scikit-learn.org/stable/modules/linear_model.html#logistic-regression\n",
      "  n_iter_i = _check_optimize_result(\n",
      "c:\\ProgramData\\Anaconda3\\envs\\env_full\\lib\\site-packages\\sklearn\\utils\\validation.py:1111: DataConversionWarning: A column-vector y was passed when a 1d array was expected. Please change the shape of y to (n_samples, ), for example using ravel().\n",
      "  y = column_or_1d(y, warn=True)\n",
      "c:\\ProgramData\\Anaconda3\\envs\\env_full\\lib\\site-packages\\sklearn\\linear_model\\_logistic.py:444: ConvergenceWarning: lbfgs failed to converge (status=1):\n",
      "STOP: TOTAL NO. of ITERATIONS REACHED LIMIT.\n",
      "\n",
      "Increase the number of iterations (max_iter) or scale the data as shown in:\n",
      "    https://scikit-learn.org/stable/modules/preprocessing.html\n",
      "Please also refer to the documentation for alternative solver options:\n",
      "    https://scikit-learn.org/stable/modules/linear_model.html#logistic-regression\n",
      "  n_iter_i = _check_optimize_result(\n",
      "c:\\ProgramData\\Anaconda3\\envs\\env_full\\lib\\site-packages\\xgboost\\sklearn.py:1224: UserWarning: The use of label encoder in XGBClassifier is deprecated and will be removed in a future release. To remove this warning, do the following: 1) Pass option use_label_encoder=False when constructing XGBClassifier object; and 2) Encode your labels (y) as integers starting with 0, i.e. 0, 1, 2, ..., [num_class - 1].\n",
      "  warnings.warn(label_encoder_deprecation_msg, UserWarning)\n",
      "c:\\ProgramData\\Anaconda3\\envs\\env_full\\lib\\site-packages\\sklearn\\preprocessing\\_label.py:98: DataConversionWarning: A column-vector y was passed when a 1d array was expected. Please change the shape of y to (n_samples, ), for example using ravel().\n",
      "  y = column_or_1d(y, warn=True)\n",
      "c:\\ProgramData\\Anaconda3\\envs\\env_full\\lib\\site-packages\\sklearn\\preprocessing\\_label.py:133: DataConversionWarning: A column-vector y was passed when a 1d array was expected. Please change the shape of y to (n_samples, ), for example using ravel().\n",
      "  y = column_or_1d(y, warn=True)\n"
     ]
    },
    {
     "name": "stdout",
     "output_type": "stream",
     "text": [
      "[13:03:44] WARNING: C:/Users/Administrator/workspace/xgboost-win64_release_1.5.1/src/learner.cc:1115: Starting in XGBoost 1.3.0, the default evaluation metric used with the objective 'binary:logistic' was changed from 'error' to 'logloss'. Explicitly set eval_metric if you'd like to restore the old behavior.\n"
     ]
    },
    {
     "name": "stderr",
     "output_type": "stream",
     "text": [
      "c:\\ProgramData\\Anaconda3\\envs\\env_full\\lib\\site-packages\\xgboost\\sklearn.py:1224: UserWarning: The use of label encoder in XGBClassifier is deprecated and will be removed in a future release. To remove this warning, do the following: 1) Pass option use_label_encoder=False when constructing XGBClassifier object; and 2) Encode your labels (y) as integers starting with 0, i.e. 0, 1, 2, ..., [num_class - 1].\n",
      "  warnings.warn(label_encoder_deprecation_msg, UserWarning)\n",
      "c:\\ProgramData\\Anaconda3\\envs\\env_full\\lib\\site-packages\\sklearn\\preprocessing\\_label.py:98: DataConversionWarning: A column-vector y was passed when a 1d array was expected. Please change the shape of y to (n_samples, ), for example using ravel().\n",
      "  y = column_or_1d(y, warn=True)\n",
      "c:\\ProgramData\\Anaconda3\\envs\\env_full\\lib\\site-packages\\sklearn\\preprocessing\\_label.py:133: DataConversionWarning: A column-vector y was passed when a 1d array was expected. Please change the shape of y to (n_samples, ), for example using ravel().\n",
      "  y = column_or_1d(y, warn=True)\n"
     ]
    },
    {
     "name": "stdout",
     "output_type": "stream",
     "text": [
      "[13:03:50] WARNING: C:/Users/Administrator/workspace/xgboost-win64_release_1.5.1/src/learner.cc:1115: Starting in XGBoost 1.3.0, the default evaluation metric used with the objective 'binary:logistic' was changed from 'error' to 'logloss'. Explicitly set eval_metric if you'd like to restore the old behavior.\n"
     ]
    },
    {
     "name": "stderr",
     "output_type": "stream",
     "text": [
      "c:\\ProgramData\\Anaconda3\\envs\\env_full\\lib\\site-packages\\xgboost\\sklearn.py:1224: UserWarning: The use of label encoder in XGBClassifier is deprecated and will be removed in a future release. To remove this warning, do the following: 1) Pass option use_label_encoder=False when constructing XGBClassifier object; and 2) Encode your labels (y) as integers starting with 0, i.e. 0, 1, 2, ..., [num_class - 1].\n",
      "  warnings.warn(label_encoder_deprecation_msg, UserWarning)\n",
      "c:\\ProgramData\\Anaconda3\\envs\\env_full\\lib\\site-packages\\sklearn\\preprocessing\\_label.py:98: DataConversionWarning: A column-vector y was passed when a 1d array was expected. Please change the shape of y to (n_samples, ), for example using ravel().\n",
      "  y = column_or_1d(y, warn=True)\n",
      "c:\\ProgramData\\Anaconda3\\envs\\env_full\\lib\\site-packages\\sklearn\\preprocessing\\_label.py:133: DataConversionWarning: A column-vector y was passed when a 1d array was expected. Please change the shape of y to (n_samples, ), for example using ravel().\n",
      "  y = column_or_1d(y, warn=True)\n"
     ]
    },
    {
     "name": "stdout",
     "output_type": "stream",
     "text": [
      "[13:03:54] WARNING: C:/Users/Administrator/workspace/xgboost-win64_release_1.5.1/src/learner.cc:1115: Starting in XGBoost 1.3.0, the default evaluation metric used with the objective 'binary:logistic' was changed from 'error' to 'logloss'. Explicitly set eval_metric if you'd like to restore the old behavior.\n"
     ]
    },
    {
     "name": "stderr",
     "output_type": "stream",
     "text": [
      "c:\\ProgramData\\Anaconda3\\envs\\env_full\\lib\\site-packages\\xgboost\\sklearn.py:1224: UserWarning: The use of label encoder in XGBClassifier is deprecated and will be removed in a future release. To remove this warning, do the following: 1) Pass option use_label_encoder=False when constructing XGBClassifier object; and 2) Encode your labels (y) as integers starting with 0, i.e. 0, 1, 2, ..., [num_class - 1].\n",
      "  warnings.warn(label_encoder_deprecation_msg, UserWarning)\n",
      "c:\\ProgramData\\Anaconda3\\envs\\env_full\\lib\\site-packages\\sklearn\\preprocessing\\_label.py:98: DataConversionWarning: A column-vector y was passed when a 1d array was expected. Please change the shape of y to (n_samples, ), for example using ravel().\n",
      "  y = column_or_1d(y, warn=True)\n",
      "c:\\ProgramData\\Anaconda3\\envs\\env_full\\lib\\site-packages\\sklearn\\preprocessing\\_label.py:133: DataConversionWarning: A column-vector y was passed when a 1d array was expected. Please change the shape of y to (n_samples, ), for example using ravel().\n",
      "  y = column_or_1d(y, warn=True)\n"
     ]
    },
    {
     "name": "stdout",
     "output_type": "stream",
     "text": [
      "[13:03:58] WARNING: C:/Users/Administrator/workspace/xgboost-win64_release_1.5.1/src/learner.cc:1115: Starting in XGBoost 1.3.0, the default evaluation metric used with the objective 'binary:logistic' was changed from 'error' to 'logloss'. Explicitly set eval_metric if you'd like to restore the old behavior.\n"
     ]
    },
    {
     "name": "stderr",
     "output_type": "stream",
     "text": [
      "c:\\ProgramData\\Anaconda3\\envs\\env_full\\lib\\site-packages\\xgboost\\sklearn.py:1224: UserWarning: The use of label encoder in XGBClassifier is deprecated and will be removed in a future release. To remove this warning, do the following: 1) Pass option use_label_encoder=False when constructing XGBClassifier object; and 2) Encode your labels (y) as integers starting with 0, i.e. 0, 1, 2, ..., [num_class - 1].\n",
      "  warnings.warn(label_encoder_deprecation_msg, UserWarning)\n",
      "c:\\ProgramData\\Anaconda3\\envs\\env_full\\lib\\site-packages\\sklearn\\preprocessing\\_label.py:98: DataConversionWarning: A column-vector y was passed when a 1d array was expected. Please change the shape of y to (n_samples, ), for example using ravel().\n",
      "  y = column_or_1d(y, warn=True)\n",
      "c:\\ProgramData\\Anaconda3\\envs\\env_full\\lib\\site-packages\\sklearn\\preprocessing\\_label.py:133: DataConversionWarning: A column-vector y was passed when a 1d array was expected. Please change the shape of y to (n_samples, ), for example using ravel().\n",
      "  y = column_or_1d(y, warn=True)\n"
     ]
    },
    {
     "name": "stdout",
     "output_type": "stream",
     "text": [
      "[13:04:03] WARNING: C:/Users/Administrator/workspace/xgboost-win64_release_1.5.1/src/learner.cc:1115: Starting in XGBoost 1.3.0, the default evaluation metric used with the objective 'binary:logistic' was changed from 'error' to 'logloss'. Explicitly set eval_metric if you'd like to restore the old behavior.\n"
     ]
    },
    {
     "name": "stderr",
     "output_type": "stream",
     "text": [
      "c:\\ProgramData\\Anaconda3\\envs\\env_full\\lib\\site-packages\\sklearn\\preprocessing\\_label.py:98: DataConversionWarning: A column-vector y was passed when a 1d array was expected. Please change the shape of y to (n_samples, ), for example using ravel().\n",
      "  y = column_or_1d(y, warn=True)\n",
      "c:\\ProgramData\\Anaconda3\\envs\\env_full\\lib\\site-packages\\sklearn\\preprocessing\\_label.py:133: DataConversionWarning: A column-vector y was passed when a 1d array was expected. Please change the shape of y to (n_samples, ), for example using ravel().\n",
      "  y = column_or_1d(y, warn=True)\n",
      "c:\\ProgramData\\Anaconda3\\envs\\env_full\\lib\\site-packages\\sklearn\\preprocessing\\_label.py:98: DataConversionWarning: A column-vector y was passed when a 1d array was expected. Please change the shape of y to (n_samples, ), for example using ravel().\n",
      "  y = column_or_1d(y, warn=True)\n",
      "c:\\ProgramData\\Anaconda3\\envs\\env_full\\lib\\site-packages\\sklearn\\preprocessing\\_label.py:133: DataConversionWarning: A column-vector y was passed when a 1d array was expected. Please change the shape of y to (n_samples, ), for example using ravel().\n",
      "  y = column_or_1d(y, warn=True)\n",
      "c:\\ProgramData\\Anaconda3\\envs\\env_full\\lib\\site-packages\\sklearn\\preprocessing\\_label.py:98: DataConversionWarning: A column-vector y was passed when a 1d array was expected. Please change the shape of y to (n_samples, ), for example using ravel().\n",
      "  y = column_or_1d(y, warn=True)\n",
      "c:\\ProgramData\\Anaconda3\\envs\\env_full\\lib\\site-packages\\sklearn\\preprocessing\\_label.py:133: DataConversionWarning: A column-vector y was passed when a 1d array was expected. Please change the shape of y to (n_samples, ), for example using ravel().\n",
      "  y = column_or_1d(y, warn=True)\n",
      "c:\\ProgramData\\Anaconda3\\envs\\env_full\\lib\\site-packages\\sklearn\\preprocessing\\_label.py:98: DataConversionWarning: A column-vector y was passed when a 1d array was expected. Please change the shape of y to (n_samples, ), for example using ravel().\n",
      "  y = column_or_1d(y, warn=True)\n",
      "c:\\ProgramData\\Anaconda3\\envs\\env_full\\lib\\site-packages\\sklearn\\preprocessing\\_label.py:133: DataConversionWarning: A column-vector y was passed when a 1d array was expected. Please change the shape of y to (n_samples, ), for example using ravel().\n",
      "  y = column_or_1d(y, warn=True)\n",
      "c:\\ProgramData\\Anaconda3\\envs\\env_full\\lib\\site-packages\\sklearn\\preprocessing\\_label.py:98: DataConversionWarning: A column-vector y was passed when a 1d array was expected. Please change the shape of y to (n_samples, ), for example using ravel().\n",
      "  y = column_or_1d(y, warn=True)\n",
      "c:\\ProgramData\\Anaconda3\\envs\\env_full\\lib\\site-packages\\sklearn\\preprocessing\\_label.py:133: DataConversionWarning: A column-vector y was passed when a 1d array was expected. Please change the shape of y to (n_samples, ), for example using ravel().\n",
      "  y = column_or_1d(y, warn=True)\n",
      "c:\\ProgramData\\Anaconda3\\envs\\env_full\\lib\\site-packages\\imblearn\\pipeline.py:272: DataConversionWarning: A column-vector y was passed when a 1d array was expected. Please change the shape of y to (n_samples,), for example using ravel().\n",
      "  self._final_estimator.fit(Xt, yt, **fit_params_last_step)\n",
      "c:\\ProgramData\\Anaconda3\\envs\\env_full\\lib\\site-packages\\imblearn\\pipeline.py:272: DataConversionWarning: A column-vector y was passed when a 1d array was expected. Please change the shape of y to (n_samples,), for example using ravel().\n",
      "  self._final_estimator.fit(Xt, yt, **fit_params_last_step)\n",
      "c:\\ProgramData\\Anaconda3\\envs\\env_full\\lib\\site-packages\\imblearn\\pipeline.py:272: DataConversionWarning: A column-vector y was passed when a 1d array was expected. Please change the shape of y to (n_samples,), for example using ravel().\n",
      "  self._final_estimator.fit(Xt, yt, **fit_params_last_step)\n",
      "c:\\ProgramData\\Anaconda3\\envs\\env_full\\lib\\site-packages\\imblearn\\pipeline.py:272: DataConversionWarning: A column-vector y was passed when a 1d array was expected. Please change the shape of y to (n_samples,), for example using ravel().\n",
      "  self._final_estimator.fit(Xt, yt, **fit_params_last_step)\n",
      "c:\\ProgramData\\Anaconda3\\envs\\env_full\\lib\\site-packages\\imblearn\\pipeline.py:272: DataConversionWarning: A column-vector y was passed when a 1d array was expected. Please change the shape of y to (n_samples,), for example using ravel().\n",
      "  self._final_estimator.fit(Xt, yt, **fit_params_last_step)\n",
      "c:\\ProgramData\\Anaconda3\\envs\\env_full\\lib\\site-packages\\sklearn\\utils\\validation.py:1111: DataConversionWarning: A column-vector y was passed when a 1d array was expected. Please change the shape of y to (n_samples, ), for example using ravel().\n",
      "  y = column_or_1d(y, warn=True)\n",
      "c:\\ProgramData\\Anaconda3\\envs\\env_full\\lib\\site-packages\\sklearn\\linear_model\\_logistic.py:444: ConvergenceWarning: lbfgs failed to converge (status=1):\n",
      "STOP: TOTAL NO. of ITERATIONS REACHED LIMIT.\n",
      "\n",
      "Increase the number of iterations (max_iter) or scale the data as shown in:\n",
      "    https://scikit-learn.org/stable/modules/preprocessing.html\n",
      "Please also refer to the documentation for alternative solver options:\n",
      "    https://scikit-learn.org/stable/modules/linear_model.html#logistic-regression\n",
      "  n_iter_i = _check_optimize_result(\n",
      "c:\\ProgramData\\Anaconda3\\envs\\env_full\\lib\\site-packages\\sklearn\\utils\\validation.py:1111: DataConversionWarning: A column-vector y was passed when a 1d array was expected. Please change the shape of y to (n_samples, ), for example using ravel().\n",
      "  y = column_or_1d(y, warn=True)\n",
      "c:\\ProgramData\\Anaconda3\\envs\\env_full\\lib\\site-packages\\sklearn\\linear_model\\_logistic.py:444: ConvergenceWarning: lbfgs failed to converge (status=1):\n",
      "STOP: TOTAL NO. of ITERATIONS REACHED LIMIT.\n",
      "\n",
      "Increase the number of iterations (max_iter) or scale the data as shown in:\n",
      "    https://scikit-learn.org/stable/modules/preprocessing.html\n",
      "Please also refer to the documentation for alternative solver options:\n",
      "    https://scikit-learn.org/stable/modules/linear_model.html#logistic-regression\n",
      "  n_iter_i = _check_optimize_result(\n",
      "c:\\ProgramData\\Anaconda3\\envs\\env_full\\lib\\site-packages\\sklearn\\utils\\validation.py:1111: DataConversionWarning: A column-vector y was passed when a 1d array was expected. Please change the shape of y to (n_samples, ), for example using ravel().\n",
      "  y = column_or_1d(y, warn=True)\n",
      "c:\\ProgramData\\Anaconda3\\envs\\env_full\\lib\\site-packages\\sklearn\\linear_model\\_logistic.py:444: ConvergenceWarning: lbfgs failed to converge (status=1):\n",
      "STOP: TOTAL NO. of ITERATIONS REACHED LIMIT.\n",
      "\n",
      "Increase the number of iterations (max_iter) or scale the data as shown in:\n",
      "    https://scikit-learn.org/stable/modules/preprocessing.html\n",
      "Please also refer to the documentation for alternative solver options:\n",
      "    https://scikit-learn.org/stable/modules/linear_model.html#logistic-regression\n",
      "  n_iter_i = _check_optimize_result(\n",
      "c:\\ProgramData\\Anaconda3\\envs\\env_full\\lib\\site-packages\\sklearn\\utils\\validation.py:1111: DataConversionWarning: A column-vector y was passed when a 1d array was expected. Please change the shape of y to (n_samples, ), for example using ravel().\n",
      "  y = column_or_1d(y, warn=True)\n",
      "c:\\ProgramData\\Anaconda3\\envs\\env_full\\lib\\site-packages\\sklearn\\linear_model\\_logistic.py:444: ConvergenceWarning: lbfgs failed to converge (status=1):\n",
      "STOP: TOTAL NO. of ITERATIONS REACHED LIMIT.\n",
      "\n",
      "Increase the number of iterations (max_iter) or scale the data as shown in:\n",
      "    https://scikit-learn.org/stable/modules/preprocessing.html\n",
      "Please also refer to the documentation for alternative solver options:\n",
      "    https://scikit-learn.org/stable/modules/linear_model.html#logistic-regression\n",
      "  n_iter_i = _check_optimize_result(\n",
      "c:\\ProgramData\\Anaconda3\\envs\\env_full\\lib\\site-packages\\sklearn\\utils\\validation.py:1111: DataConversionWarning: A column-vector y was passed when a 1d array was expected. Please change the shape of y to (n_samples, ), for example using ravel().\n",
      "  y = column_or_1d(y, warn=True)\n",
      "c:\\ProgramData\\Anaconda3\\envs\\env_full\\lib\\site-packages\\sklearn\\linear_model\\_logistic.py:444: ConvergenceWarning: lbfgs failed to converge (status=1):\n",
      "STOP: TOTAL NO. of ITERATIONS REACHED LIMIT.\n",
      "\n",
      "Increase the number of iterations (max_iter) or scale the data as shown in:\n",
      "    https://scikit-learn.org/stable/modules/preprocessing.html\n",
      "Please also refer to the documentation for alternative solver options:\n",
      "    https://scikit-learn.org/stable/modules/linear_model.html#logistic-regression\n",
      "  n_iter_i = _check_optimize_result(\n",
      "c:\\ProgramData\\Anaconda3\\envs\\env_full\\lib\\site-packages\\xgboost\\sklearn.py:1224: UserWarning: The use of label encoder in XGBClassifier is deprecated and will be removed in a future release. To remove this warning, do the following: 1) Pass option use_label_encoder=False when constructing XGBClassifier object; and 2) Encode your labels (y) as integers starting with 0, i.e. 0, 1, 2, ..., [num_class - 1].\n",
      "  warnings.warn(label_encoder_deprecation_msg, UserWarning)\n",
      "c:\\ProgramData\\Anaconda3\\envs\\env_full\\lib\\site-packages\\sklearn\\preprocessing\\_label.py:98: DataConversionWarning: A column-vector y was passed when a 1d array was expected. Please change the shape of y to (n_samples, ), for example using ravel().\n",
      "  y = column_or_1d(y, warn=True)\n",
      "c:\\ProgramData\\Anaconda3\\envs\\env_full\\lib\\site-packages\\sklearn\\preprocessing\\_label.py:133: DataConversionWarning: A column-vector y was passed when a 1d array was expected. Please change the shape of y to (n_samples, ), for example using ravel().\n",
      "  y = column_or_1d(y, warn=True)\n"
     ]
    },
    {
     "name": "stdout",
     "output_type": "stream",
     "text": [
      "[13:04:56] WARNING: C:/Users/Administrator/workspace/xgboost-win64_release_1.5.1/src/learner.cc:1115: Starting in XGBoost 1.3.0, the default evaluation metric used with the objective 'binary:logistic' was changed from 'error' to 'logloss'. Explicitly set eval_metric if you'd like to restore the old behavior.\n"
     ]
    },
    {
     "name": "stderr",
     "output_type": "stream",
     "text": [
      "c:\\ProgramData\\Anaconda3\\envs\\env_full\\lib\\site-packages\\xgboost\\sklearn.py:1224: UserWarning: The use of label encoder in XGBClassifier is deprecated and will be removed in a future release. To remove this warning, do the following: 1) Pass option use_label_encoder=False when constructing XGBClassifier object; and 2) Encode your labels (y) as integers starting with 0, i.e. 0, 1, 2, ..., [num_class - 1].\n",
      "  warnings.warn(label_encoder_deprecation_msg, UserWarning)\n",
      "c:\\ProgramData\\Anaconda3\\envs\\env_full\\lib\\site-packages\\sklearn\\preprocessing\\_label.py:98: DataConversionWarning: A column-vector y was passed when a 1d array was expected. Please change the shape of y to (n_samples, ), for example using ravel().\n",
      "  y = column_or_1d(y, warn=True)\n",
      "c:\\ProgramData\\Anaconda3\\envs\\env_full\\lib\\site-packages\\sklearn\\preprocessing\\_label.py:133: DataConversionWarning: A column-vector y was passed when a 1d array was expected. Please change the shape of y to (n_samples, ), for example using ravel().\n",
      "  y = column_or_1d(y, warn=True)\n"
     ]
    },
    {
     "name": "stdout",
     "output_type": "stream",
     "text": [
      "[13:05:00] WARNING: C:/Users/Administrator/workspace/xgboost-win64_release_1.5.1/src/learner.cc:1115: Starting in XGBoost 1.3.0, the default evaluation metric used with the objective 'binary:logistic' was changed from 'error' to 'logloss'. Explicitly set eval_metric if you'd like to restore the old behavior.\n"
     ]
    },
    {
     "name": "stderr",
     "output_type": "stream",
     "text": [
      "c:\\ProgramData\\Anaconda3\\envs\\env_full\\lib\\site-packages\\xgboost\\sklearn.py:1224: UserWarning: The use of label encoder in XGBClassifier is deprecated and will be removed in a future release. To remove this warning, do the following: 1) Pass option use_label_encoder=False when constructing XGBClassifier object; and 2) Encode your labels (y) as integers starting with 0, i.e. 0, 1, 2, ..., [num_class - 1].\n",
      "  warnings.warn(label_encoder_deprecation_msg, UserWarning)\n",
      "c:\\ProgramData\\Anaconda3\\envs\\env_full\\lib\\site-packages\\sklearn\\preprocessing\\_label.py:98: DataConversionWarning: A column-vector y was passed when a 1d array was expected. Please change the shape of y to (n_samples, ), for example using ravel().\n",
      "  y = column_or_1d(y, warn=True)\n",
      "c:\\ProgramData\\Anaconda3\\envs\\env_full\\lib\\site-packages\\sklearn\\preprocessing\\_label.py:133: DataConversionWarning: A column-vector y was passed when a 1d array was expected. Please change the shape of y to (n_samples, ), for example using ravel().\n",
      "  y = column_or_1d(y, warn=True)\n"
     ]
    },
    {
     "name": "stdout",
     "output_type": "stream",
     "text": [
      "[13:05:06] WARNING: C:/Users/Administrator/workspace/xgboost-win64_release_1.5.1/src/learner.cc:1115: Starting in XGBoost 1.3.0, the default evaluation metric used with the objective 'binary:logistic' was changed from 'error' to 'logloss'. Explicitly set eval_metric if you'd like to restore the old behavior.\n"
     ]
    },
    {
     "name": "stderr",
     "output_type": "stream",
     "text": [
      "c:\\ProgramData\\Anaconda3\\envs\\env_full\\lib\\site-packages\\xgboost\\sklearn.py:1224: UserWarning: The use of label encoder in XGBClassifier is deprecated and will be removed in a future release. To remove this warning, do the following: 1) Pass option use_label_encoder=False when constructing XGBClassifier object; and 2) Encode your labels (y) as integers starting with 0, i.e. 0, 1, 2, ..., [num_class - 1].\n",
      "  warnings.warn(label_encoder_deprecation_msg, UserWarning)\n",
      "c:\\ProgramData\\Anaconda3\\envs\\env_full\\lib\\site-packages\\sklearn\\preprocessing\\_label.py:98: DataConversionWarning: A column-vector y was passed when a 1d array was expected. Please change the shape of y to (n_samples, ), for example using ravel().\n",
      "  y = column_or_1d(y, warn=True)\n",
      "c:\\ProgramData\\Anaconda3\\envs\\env_full\\lib\\site-packages\\sklearn\\preprocessing\\_label.py:133: DataConversionWarning: A column-vector y was passed when a 1d array was expected. Please change the shape of y to (n_samples, ), for example using ravel().\n",
      "  y = column_or_1d(y, warn=True)\n"
     ]
    },
    {
     "name": "stdout",
     "output_type": "stream",
     "text": [
      "[13:05:10] WARNING: C:/Users/Administrator/workspace/xgboost-win64_release_1.5.1/src/learner.cc:1115: Starting in XGBoost 1.3.0, the default evaluation metric used with the objective 'binary:logistic' was changed from 'error' to 'logloss'. Explicitly set eval_metric if you'd like to restore the old behavior.\n"
     ]
    },
    {
     "name": "stderr",
     "output_type": "stream",
     "text": [
      "c:\\ProgramData\\Anaconda3\\envs\\env_full\\lib\\site-packages\\xgboost\\sklearn.py:1224: UserWarning: The use of label encoder in XGBClassifier is deprecated and will be removed in a future release. To remove this warning, do the following: 1) Pass option use_label_encoder=False when constructing XGBClassifier object; and 2) Encode your labels (y) as integers starting with 0, i.e. 0, 1, 2, ..., [num_class - 1].\n",
      "  warnings.warn(label_encoder_deprecation_msg, UserWarning)\n",
      "c:\\ProgramData\\Anaconda3\\envs\\env_full\\lib\\site-packages\\sklearn\\preprocessing\\_label.py:98: DataConversionWarning: A column-vector y was passed when a 1d array was expected. Please change the shape of y to (n_samples, ), for example using ravel().\n",
      "  y = column_or_1d(y, warn=True)\n",
      "c:\\ProgramData\\Anaconda3\\envs\\env_full\\lib\\site-packages\\sklearn\\preprocessing\\_label.py:133: DataConversionWarning: A column-vector y was passed when a 1d array was expected. Please change the shape of y to (n_samples, ), for example using ravel().\n",
      "  y = column_or_1d(y, warn=True)\n"
     ]
    },
    {
     "name": "stdout",
     "output_type": "stream",
     "text": [
      "[13:05:14] WARNING: C:/Users/Administrator/workspace/xgboost-win64_release_1.5.1/src/learner.cc:1115: Starting in XGBoost 1.3.0, the default evaluation metric used with the objective 'binary:logistic' was changed from 'error' to 'logloss'. Explicitly set eval_metric if you'd like to restore the old behavior.\n"
     ]
    },
    {
     "name": "stderr",
     "output_type": "stream",
     "text": [
      "c:\\ProgramData\\Anaconda3\\envs\\env_full\\lib\\site-packages\\sklearn\\preprocessing\\_label.py:98: DataConversionWarning: A column-vector y was passed when a 1d array was expected. Please change the shape of y to (n_samples, ), for example using ravel().\n",
      "  y = column_or_1d(y, warn=True)\n",
      "c:\\ProgramData\\Anaconda3\\envs\\env_full\\lib\\site-packages\\sklearn\\preprocessing\\_label.py:133: DataConversionWarning: A column-vector y was passed when a 1d array was expected. Please change the shape of y to (n_samples, ), for example using ravel().\n",
      "  y = column_or_1d(y, warn=True)\n",
      "c:\\ProgramData\\Anaconda3\\envs\\env_full\\lib\\site-packages\\sklearn\\preprocessing\\_label.py:98: DataConversionWarning: A column-vector y was passed when a 1d array was expected. Please change the shape of y to (n_samples, ), for example using ravel().\n",
      "  y = column_or_1d(y, warn=True)\n",
      "c:\\ProgramData\\Anaconda3\\envs\\env_full\\lib\\site-packages\\sklearn\\preprocessing\\_label.py:133: DataConversionWarning: A column-vector y was passed when a 1d array was expected. Please change the shape of y to (n_samples, ), for example using ravel().\n",
      "  y = column_or_1d(y, warn=True)\n",
      "c:\\ProgramData\\Anaconda3\\envs\\env_full\\lib\\site-packages\\sklearn\\preprocessing\\_label.py:98: DataConversionWarning: A column-vector y was passed when a 1d array was expected. Please change the shape of y to (n_samples, ), for example using ravel().\n",
      "  y = column_or_1d(y, warn=True)\n",
      "c:\\ProgramData\\Anaconda3\\envs\\env_full\\lib\\site-packages\\sklearn\\preprocessing\\_label.py:133: DataConversionWarning: A column-vector y was passed when a 1d array was expected. Please change the shape of y to (n_samples, ), for example using ravel().\n",
      "  y = column_or_1d(y, warn=True)\n",
      "c:\\ProgramData\\Anaconda3\\envs\\env_full\\lib\\site-packages\\sklearn\\preprocessing\\_label.py:98: DataConversionWarning: A column-vector y was passed when a 1d array was expected. Please change the shape of y to (n_samples, ), for example using ravel().\n",
      "  y = column_or_1d(y, warn=True)\n",
      "c:\\ProgramData\\Anaconda3\\envs\\env_full\\lib\\site-packages\\sklearn\\preprocessing\\_label.py:133: DataConversionWarning: A column-vector y was passed when a 1d array was expected. Please change the shape of y to (n_samples, ), for example using ravel().\n",
      "  y = column_or_1d(y, warn=True)\n",
      "c:\\ProgramData\\Anaconda3\\envs\\env_full\\lib\\site-packages\\sklearn\\preprocessing\\_label.py:98: DataConversionWarning: A column-vector y was passed when a 1d array was expected. Please change the shape of y to (n_samples, ), for example using ravel().\n",
      "  y = column_or_1d(y, warn=True)\n",
      "c:\\ProgramData\\Anaconda3\\envs\\env_full\\lib\\site-packages\\sklearn\\preprocessing\\_label.py:133: DataConversionWarning: A column-vector y was passed when a 1d array was expected. Please change the shape of y to (n_samples, ), for example using ravel().\n",
      "  y = column_or_1d(y, warn=True)\n"
     ]
    },
    {
     "name": "stdout",
     "output_type": "stream",
     "text": [
      "                      Classifier  precision  recall    f1  accuracy  roc_auc\n",
      "8                     sc_XGBoost      0.634   0.560 0.576     0.890    0.673\n",
      "9                    sc_LightGBM      0.626   0.556 0.570     0.890    0.675\n",
      "13              log_prep_XGBoost      0.643   0.553 0.567     0.895    0.677\n",
      "11        log_prep_Random Forest      0.656   0.552 0.567     0.897    0.670\n",
      "6               sc_Random Forest      0.630   0.549 0.563     0.892    0.668\n",
      "14             log_prep_LightGBM      0.645   0.546 0.559     0.895    0.676\n",
      "3                   null_XGBoost      0.670   0.543 0.555     0.900    0.681\n",
      "4                  null_LightGBM      0.711   0.537 0.545     0.903    0.687\n",
      "1             null_Random Forest      0.702   0.533 0.538     0.903    0.671\n",
      "12  log_prep_Logistic Regression      0.538   0.606 0.476     0.593    0.642\n",
      "7         sc_Logistic Regression      0.536   0.603 0.470     0.583    0.643\n",
      "10     log_prep_Dummy Stratified      0.506   0.518 0.409     0.504    0.507\n",
      "5            sc_Dummy Stratified      0.499   0.498 0.401     0.497    0.491\n",
      "0          null_Dummy Stratified      0.499   0.496 0.401     0.497    0.500\n",
      "2       null_Logistic Regression      0.521   0.549 0.327     0.356    0.587\n"
     ]
    }
   ],
   "source": [
    "from sklearn.dummy import DummyClassifier\n",
    "from sklearn.ensemble import RandomForestClassifier\n",
    "from sklearn.linear_model import LogisticRegression\n",
    "from xgboost import XGBClassifier\n",
    "from lightgbm import LGBMClassifier\n",
    "from sklearn.model_selection import cross_validate\n",
    "from imblearn.pipeline import make_pipeline as imb_pipe\n",
    "from imblearn.over_sampling import SMOTE\n",
    "import pandas as pd\n",
    "\n",
    "# assuming null_prep, sc_prep, log_prep are defined preprocessing steps\n",
    "pipelines = {\n",
    "   'null':null_prep,\n",
    "   'sc':sc_prep,\n",
    "   'log_prep':log_prep,\n",
    "}\n",
    "\n",
    "model_definitions = [\n",
    "    ('Dummy Stratified', DummyClassifier, {'strategy': 'stratified'}),    \n",
    "    ('Random Forest', RandomForestClassifier, {}),\n",
    "    ('Logistic Regression', LogisticRegression, {}),\n",
    "    ('XGBoost', XGBClassifier, {}),\n",
    "    ('LightGBM', LGBMClassifier, {})\n",
    "]\n",
    "\n",
    "# Initialize SMOTE\n",
    "smote = SMOTE(sampling_strategy='auto')\n",
    "\n",
    "results = []\n",
    "\n",
    "# Cross-validation metrics\n",
    "scoring = ['precision_macro', 'recall_macro', 'f1_macro', 'accuracy', 'roc_auc']\n",
    "\n",
    "for pipeline_name, pipeline in pipelines.items():\n",
    "    for model_name, Model, model_params in model_definitions:\n",
    "        # Create a pipeline: preprocessing, SMOTE, model\n",
    "        model_pipeline = imb_pipe(pipeline, smote, Model(**model_params))\n",
    "        \n",
    "        # Perform cross-validation\n",
    "        scores = cross_validate(model_pipeline, X_train, y_train, cv=5, scoring=scoring)\n",
    "\n",
    "        # Store results\n",
    "        results.append({\n",
    "            'Classifier': f'{pipeline_name}_{model_name}',\n",
    "            'precision': np.mean(scores['test_precision_macro']),\n",
    "            'recall': np.mean(scores['test_recall_macro']),\n",
    "            'f1': np.mean(scores['test_f1_macro']),\n",
    "            'accuracy': np.mean(scores['test_accuracy']),\n",
    "            'roc_auc': np.mean(scores['test_roc_auc'])\n",
    "        })\n",
    "\n",
    "# convert results into DataFrame\n",
    "results_df = pd.DataFrame(results)\n",
    "\n",
    "# sort by F1 score\n",
    "results_df.sort_values(by='f1', ascending=False, inplace=True)\n",
    "\n",
    "print(results_df)\n"
   ]
  },
  {
   "cell_type": "code",
   "execution_count": 9,
   "metadata": {},
   "outputs": [
    {
     "ename": "NameError",
     "evalue": "name 'imb_pipe' is not defined",
     "output_type": "error",
     "traceback": [
      "\u001b[1;31m---------------------------------------------------------------------------\u001b[0m",
      "\u001b[1;31mNameError\u001b[0m                                 Traceback (most recent call last)",
      "Cell \u001b[1;32mIn[9], line 3\u001b[0m\n\u001b[0;32m      1\u001b[0m \u001b[39mfrom\u001b[39;00m \u001b[39msklearn\u001b[39;00m\u001b[39m.\u001b[39;00m\u001b[39mmetrics\u001b[39;00m \u001b[39mimport\u001b[39;00m classification_report\n\u001b[1;32m----> 3\u001b[0m xgb_baseline \u001b[39m=\u001b[39m imb_pipe(sc_prep, smote, XGBClassifier(random_state\u001b[39m=\u001b[39mSEED))\n\u001b[0;32m      4\u001b[0m xgb_baseline\u001b[39m.\u001b[39mfit(X_train, y_train\u001b[39m.\u001b[39mvalues\u001b[39m.\u001b[39mravel())\n\u001b[0;32m      5\u001b[0m y_pred_xgb \u001b[39m=\u001b[39m xgb_baseline\u001b[39m.\u001b[39mpredict(X_test)\n",
      "\u001b[1;31mNameError\u001b[0m: name 'imb_pipe' is not defined"
     ]
    }
   ],
   "source": [
    "from sklearn.metrics import classification_report\n",
    "\n",
    "xgb_baseline = imb_pipe(sc_prep, smote, XGBClassifier(random_state=SEED))\n",
    "xgb_baseline.fit(X_train, y_train.values.ravel())\n",
    "y_pred_xgb = xgb_baseline.predict(X_test)\n",
    "print(classification_report(y_test, y_pred_xgb))"
   ]
  },
  {
   "cell_type": "code",
   "execution_count": 261,
   "metadata": {},
   "outputs": [
    {
     "name": "stderr",
     "output_type": "stream",
     "text": [
      "c:\\ProgramData\\Anaconda3\\envs\\env_full\\lib\\site-packages\\xgboost\\sklearn.py:1224: UserWarning: The use of label encoder in XGBClassifier is deprecated and will be removed in a future release. To remove this warning, do the following: 1) Pass option use_label_encoder=False when constructing XGBClassifier object; and 2) Encode your labels (y) as integers starting with 0, i.e. 0, 1, 2, ..., [num_class - 1].\n",
      "  warnings.warn(label_encoder_deprecation_msg, UserWarning)\n"
     ]
    },
    {
     "name": "stdout",
     "output_type": "stream",
     "text": [
      "[13:17:47] WARNING: C:/Users/Administrator/workspace/xgboost-win64_release_1.5.1/src/learner.cc:1115: Starting in XGBoost 1.3.0, the default evaluation metric used with the objective 'binary:logistic' was changed from 'error' to 'logloss'. Explicitly set eval_metric if you'd like to restore the old behavior.\n",
      "              precision    recall  f1-score   support\n",
      "\n",
      "           0       0.92      0.93      0.93      2638\n",
      "           1       0.28      0.24      0.26       284\n",
      "\n",
      "    accuracy                           0.87      2922\n",
      "   macro avg       0.60      0.59      0.59      2922\n",
      "weighted avg       0.86      0.87      0.86      2922\n",
      "\n"
     ]
    }
   ],
   "source": [
    "xgb_baseline = make_pipeline(null_prep, XGBClassifier(random_state=SEED, scale_pos_weight=8))\n",
    "xgb_baseline.fit(X_train, y_train.values.ravel())\n",
    "y_pred_xgb = xgb_baseline.predict(X_test)\n",
    "print(classification_report(y_test, y_pred_xgb))"
   ]
  },
  {
   "cell_type": "code",
   "execution_count": 262,
   "metadata": {},
   "outputs": [
    {
     "name": "stderr",
     "output_type": "stream",
     "text": [
      "c:\\ProgramData\\Anaconda3\\envs\\env_full\\lib\\site-packages\\xgboost\\sklearn.py:1224: UserWarning: The use of label encoder in XGBClassifier is deprecated and will be removed in a future release. To remove this warning, do the following: 1) Pass option use_label_encoder=False when constructing XGBClassifier object; and 2) Encode your labels (y) as integers starting with 0, i.e. 0, 1, 2, ..., [num_class - 1].\n",
      "  warnings.warn(label_encoder_deprecation_msg, UserWarning)\n"
     ]
    },
    {
     "name": "stdout",
     "output_type": "stream",
     "text": [
      "[13:18:23] WARNING: C:/Users/Administrator/workspace/xgboost-win64_release_1.5.1/src/learner.cc:1115: Starting in XGBoost 1.3.0, the default evaluation metric used with the objective 'binary:logistic' was changed from 'error' to 'logloss'. Explicitly set eval_metric if you'd like to restore the old behavior.\n",
      "              precision    recall  f1-score   support\n",
      "\n",
      "           0       0.92      0.94      0.93      2638\n",
      "           1       0.30      0.22      0.25       284\n",
      "\n",
      "    accuracy                           0.87      2922\n",
      "   macro avg       0.61      0.58      0.59      2922\n",
      "weighted avg       0.86      0.87      0.86      2922\n",
      "\n"
     ]
    }
   ],
   "source": [
    "from imblearn.combine import SMOTEENN\n",
    "from imblearn.under_sampling import EditedNearestNeighbours\n",
    "\n",
    "# select sampler\n",
    "sm = SMOTEENN(enn=EditedNearestNeighbours(sampling_strategy='majority'), random_state=SEED)\n",
    "xgb_baseline = imb_pipe(null_prep, sm, XGBClassifier(random_state=SEED))\n",
    "xgb_baseline.fit(X_train, y_train.values.ravel())\n",
    "y_pred_xgb = xgb_baseline.predict(X_test)\n",
    "print(classification_report(y_test, y_pred_xgb))"
   ]
  },
  {
   "cell_type": "code",
   "execution_count": 260,
   "metadata": {},
   "outputs": [
    {
     "name": "stderr",
     "output_type": "stream",
     "text": [
      "c:\\ProgramData\\Anaconda3\\envs\\env_full\\lib\\site-packages\\xgboost\\sklearn.py:1224: UserWarning: The use of label encoder in XGBClassifier is deprecated and will be removed in a future release. To remove this warning, do the following: 1) Pass option use_label_encoder=False when constructing XGBClassifier object; and 2) Encode your labels (y) as integers starting with 0, i.e. 0, 1, 2, ..., [num_class - 1].\n",
      "  warnings.warn(label_encoder_deprecation_msg, UserWarning)\n"
     ]
    },
    {
     "name": "stdout",
     "output_type": "stream",
     "text": [
      "[13:17:20] WARNING: C:/Users/Administrator/workspace/xgboost-win64_release_1.5.1/src/learner.cc:1115: Starting in XGBoost 1.3.0, the default evaluation metric used with the objective 'binary:logistic' was changed from 'error' to 'logloss'. Explicitly set eval_metric if you'd like to restore the old behavior.\n",
      "              precision    recall  f1-score   support\n",
      "\n",
      "           0       0.91      0.99      0.95      2638\n",
      "           1       0.58      0.14      0.22       284\n",
      "\n",
      "    accuracy                           0.91      2922\n",
      "   macro avg       0.75      0.56      0.59      2922\n",
      "weighted avg       0.88      0.91      0.88      2922\n",
      "\n"
     ]
    }
   ],
   "source": [
    "xgb_baseline = imb_pipe(null_prep, smote, XGBClassifier(random_state=SEED))\n",
    "xgb_baseline.fit(X_train, y_train.values.ravel())\n",
    "y_pred_xgb = xgb_baseline.predict(X_test)\n",
    "print(classification_report(y_test, y_pred_xgb))"
   ]
  },
  {
   "cell_type": "code",
   "execution_count": null,
   "metadata": {},
   "outputs": [],
   "source": [
    "xgb_baseline = make_pipeline(sc_prep, XGBClassifier(random_state=SEED))\n",
    "xgb_baseline.fit(X_train, y_train.values.ravel())\n",
    "y_pred_xgb = xgb_baseline.predict(X_test)\n",
    "print(classification_report(y_test, y_pred_xgb))"
   ]
  },
  {
   "cell_type": "code",
   "execution_count": 263,
   "metadata": {},
   "outputs": [
    {
     "name": "stderr",
     "output_type": "stream",
     "text": [
      "c:\\ProgramData\\Anaconda3\\envs\\env_full\\lib\\site-packages\\xgboost\\sklearn.py:1224: UserWarning: The use of label encoder in XGBClassifier is deprecated and will be removed in a future release. To remove this warning, do the following: 1) Pass option use_label_encoder=False when constructing XGBClassifier object; and 2) Encode your labels (y) as integers starting with 0, i.e. 0, 1, 2, ..., [num_class - 1].\n",
      "  warnings.warn(label_encoder_deprecation_msg, UserWarning)\n"
     ]
    },
    {
     "name": "stdout",
     "output_type": "stream",
     "text": [
      "[14:53:33] WARNING: C:/Users/Administrator/workspace/xgboost-win64_release_1.5.1/src/learner.cc:1115: Starting in XGBoost 1.3.0, the default evaluation metric used with the objective 'binary:logistic' was changed from 'error' to 'logloss'. Explicitly set eval_metric if you'd like to restore the old behavior.\n",
      "              precision    recall  f1-score   support\n",
      "\n",
      "           0       0.92      0.94      0.93      2638\n",
      "           1       0.29      0.25      0.27       284\n",
      "\n",
      "    accuracy                           0.87      2922\n",
      "   macro avg       0.61      0.59      0.60      2922\n",
      "weighted avg       0.86      0.87      0.86      2922\n",
      "\n"
     ]
    }
   ],
   "source": [
    "xgb_baseline = make_pipeline(log_prep, XGBClassifier(random_state=SEED, scale_pos_weight=8))\n",
    "xgb_baseline.fit(X_train, y_train.values.ravel())\n",
    "y_pred_xgb = xgb_baseline.predict(X_test)\n",
    "print(classification_report(y_test, y_pred_xgb))"
   ]
  },
  {
   "cell_type": "code",
   "execution_count": 259,
   "metadata": {},
   "outputs": [
    {
     "name": "stderr",
     "output_type": "stream",
     "text": [
      "c:\\ProgramData\\Anaconda3\\envs\\env_full\\lib\\site-packages\\xgboost\\sklearn.py:1224: UserWarning: The use of label encoder in XGBClassifier is deprecated and will be removed in a future release. To remove this warning, do the following: 1) Pass option use_label_encoder=False when constructing XGBClassifier object; and 2) Encode your labels (y) as integers starting with 0, i.e. 0, 1, 2, ..., [num_class - 1].\n",
      "  warnings.warn(label_encoder_deprecation_msg, UserWarning)\n"
     ]
    },
    {
     "name": "stdout",
     "output_type": "stream",
     "text": [
      "[13:15:21] WARNING: C:/Users/Administrator/workspace/xgboost-win64_release_1.5.1/src/learner.cc:1115: Starting in XGBoost 1.3.0, the default evaluation metric used with the objective 'binary:logistic' was changed from 'error' to 'logloss'. Explicitly set eval_metric if you'd like to restore the old behavior.\n",
      "              precision    recall  f1-score   support\n",
      "\n",
      "           0       0.92      0.93      0.93      2638\n",
      "           1       0.27      0.23      0.25       284\n",
      "\n",
      "    accuracy                           0.86      2922\n",
      "   macro avg       0.59      0.58      0.59      2922\n",
      "weighted avg       0.85      0.86      0.86      2922\n",
      "\n"
     ]
    }
   ],
   "source": [
    "xgb_baseline = make_pipeline(sc_prep, XGBClassifier(random_state=SEED, scale_pos_weight=8))\n",
    "xgb_baseline.fit(X_train, y_train.values.ravel())\n",
    "y_pred_xgb = xgb_baseline.predict(X_test)\n",
    "print(classification_report(y_test, y_pred_xgb))"
   ]
  },
  {
   "attachments": {},
   "cell_type": "markdown",
   "metadata": {},
   "source": [
    "## FE with Leave One Feature Out (LOFO) "
   ]
  },
  {
   "cell_type": "code",
   "execution_count": 215,
   "metadata": {},
   "outputs": [
    {
     "data": {
      "text/html": [
       "<div>\n",
       "<style scoped>\n",
       "    .dataframe tbody tr th:only-of-type {\n",
       "        vertical-align: middle;\n",
       "    }\n",
       "\n",
       "    .dataframe tbody tr th {\n",
       "        vertical-align: top;\n",
       "    }\n",
       "\n",
       "    .dataframe thead th {\n",
       "        text-align: right;\n",
       "    }\n",
       "</style>\n",
       "<table border=\"1\" class=\"dataframe\">\n",
       "  <thead>\n",
       "    <tr style=\"text-align: right;\">\n",
       "      <th></th>\n",
       "      <th>sales_channel_id_a</th>\n",
       "      <th>sales_channel_id_b</th>\n",
       "      <th>sales_channel_id_c</th>\n",
       "      <th>sales_channel_id_d</th>\n",
       "      <th>sales_channel_id_e</th>\n",
       "      <th>sales_channel_id_f</th>\n",
       "      <th>sales_channel_id_g</th>\n",
       "      <th>first_ec_id_a</th>\n",
       "      <th>first_ec_id_b</th>\n",
       "      <th>first_ec_id_c</th>\n",
       "      <th>...</th>\n",
       "      <th>price_p_2_std</th>\n",
       "      <th>price_p_3_mean</th>\n",
       "      <th>price_p_3_std</th>\n",
       "      <th>price_e_1_zero</th>\n",
       "      <th>price_e_2_zero</th>\n",
       "      <th>price_e_3_zero</th>\n",
       "      <th>price_p_1_zero</th>\n",
       "      <th>price_p_2_zero</th>\n",
       "      <th>price_p_3_zero</th>\n",
       "      <th>churn</th>\n",
       "    </tr>\n",
       "  </thead>\n",
       "  <tbody>\n",
       "    <tr>\n",
       "      <th>0</th>\n",
       "      <td>1.000</td>\n",
       "      <td>0.000</td>\n",
       "      <td>0.000</td>\n",
       "      <td>0.000</td>\n",
       "      <td>0.000</td>\n",
       "      <td>0.000</td>\n",
       "      <td>0.000</td>\n",
       "      <td>0.000</td>\n",
       "      <td>1.000</td>\n",
       "      <td>0.000</td>\n",
       "      <td>...</td>\n",
       "      <td>0.000</td>\n",
       "      <td>16.226</td>\n",
       "      <td>0.000</td>\n",
       "      <td>0.000</td>\n",
       "      <td>0.000</td>\n",
       "      <td>0.000</td>\n",
       "      <td>0.000</td>\n",
       "      <td>0.000</td>\n",
       "      <td>0.000</td>\n",
       "      <td>0</td>\n",
       "    </tr>\n",
       "    <tr>\n",
       "      <th>1</th>\n",
       "      <td>0.000</td>\n",
       "      <td>0.000</td>\n",
       "      <td>1.000</td>\n",
       "      <td>0.000</td>\n",
       "      <td>0.000</td>\n",
       "      <td>0.000</td>\n",
       "      <td>0.000</td>\n",
       "      <td>0.000</td>\n",
       "      <td>1.000</td>\n",
       "      <td>0.000</td>\n",
       "      <td>...</td>\n",
       "      <td>0.000</td>\n",
       "      <td>0.000</td>\n",
       "      <td>0.000</td>\n",
       "      <td>0.000</td>\n",
       "      <td>1.000</td>\n",
       "      <td>1.000</td>\n",
       "      <td>0.000</td>\n",
       "      <td>1.000</td>\n",
       "      <td>1.000</td>\n",
       "      <td>0</td>\n",
       "    </tr>\n",
       "    <tr>\n",
       "      <th>2</th>\n",
       "      <td>1.000</td>\n",
       "      <td>0.000</td>\n",
       "      <td>0.000</td>\n",
       "      <td>0.000</td>\n",
       "      <td>0.000</td>\n",
       "      <td>0.000</td>\n",
       "      <td>0.000</td>\n",
       "      <td>0.000</td>\n",
       "      <td>1.000</td>\n",
       "      <td>0.000</td>\n",
       "      <td>...</td>\n",
       "      <td>0.000</td>\n",
       "      <td>0.000</td>\n",
       "      <td>0.000</td>\n",
       "      <td>0.000</td>\n",
       "      <td>1.000</td>\n",
       "      <td>1.000</td>\n",
       "      <td>0.000</td>\n",
       "      <td>1.000</td>\n",
       "      <td>1.000</td>\n",
       "      <td>0</td>\n",
       "    </tr>\n",
       "    <tr>\n",
       "      <th>3</th>\n",
       "      <td>0.000</td>\n",
       "      <td>0.000</td>\n",
       "      <td>0.000</td>\n",
       "      <td>1.000</td>\n",
       "      <td>0.000</td>\n",
       "      <td>0.000</td>\n",
       "      <td>0.000</td>\n",
       "      <td>0.000</td>\n",
       "      <td>1.000</td>\n",
       "      <td>0.000</td>\n",
       "      <td>...</td>\n",
       "      <td>0.000</td>\n",
       "      <td>0.000</td>\n",
       "      <td>0.000</td>\n",
       "      <td>0.000</td>\n",
       "      <td>1.000</td>\n",
       "      <td>1.000</td>\n",
       "      <td>0.000</td>\n",
       "      <td>1.000</td>\n",
       "      <td>1.000</td>\n",
       "      <td>0</td>\n",
       "    </tr>\n",
       "  </tbody>\n",
       "</table>\n",
       "<p>4 rows × 53 columns</p>\n",
       "</div>"
      ],
      "text/plain": [
       "   sales_channel_id_a  sales_channel_id_b  sales_channel_id_c  \\\n",
       "0               1.000               0.000               0.000   \n",
       "1               0.000               0.000               1.000   \n",
       "2               1.000               0.000               0.000   \n",
       "3               0.000               0.000               0.000   \n",
       "\n",
       "   sales_channel_id_d  sales_channel_id_e  sales_channel_id_f  \\\n",
       "0               0.000               0.000               0.000   \n",
       "1               0.000               0.000               0.000   \n",
       "2               0.000               0.000               0.000   \n",
       "3               1.000               0.000               0.000   \n",
       "\n",
       "   sales_channel_id_g  first_ec_id_a  first_ec_id_b  first_ec_id_c  ...  \\\n",
       "0               0.000          0.000          1.000          0.000  ...   \n",
       "1               0.000          0.000          1.000          0.000  ...   \n",
       "2               0.000          0.000          1.000          0.000  ...   \n",
       "3               0.000          0.000          1.000          0.000  ...   \n",
       "\n",
       "   price_p_2_std  price_p_3_mean  price_p_3_std  price_e_1_zero  \\\n",
       "0          0.000          16.226          0.000           0.000   \n",
       "1          0.000           0.000          0.000           0.000   \n",
       "2          0.000           0.000          0.000           0.000   \n",
       "3          0.000           0.000          0.000           0.000   \n",
       "\n",
       "   price_e_2_zero  price_e_3_zero  price_p_1_zero  price_p_2_zero  \\\n",
       "0           0.000           0.000           0.000           0.000   \n",
       "1           1.000           1.000           0.000           1.000   \n",
       "2           1.000           1.000           0.000           1.000   \n",
       "3           1.000           1.000           0.000           1.000   \n",
       "\n",
       "   price_p_3_zero  churn  \n",
       "0           0.000      0  \n",
       "1           1.000      0  \n",
       "2           1.000      0  \n",
       "3           1.000      0  \n",
       "\n",
       "[4 rows x 53 columns]"
      ]
     },
     "execution_count": 215,
     "metadata": {},
     "output_type": "execute_result"
    }
   ],
   "source": [
    "def get_X_transformed(pipeline, X_train, X_test, y_train):\n",
    "    X_train_t, X_test_t = pipeline.fit_transform(X_train, y_train), pipeline.transform(X_test)\n",
    "    X_train_t = pd.DataFrame(X_train_t, columns=pipeline.get_feature_names_out())\n",
    "    X_test_t = pd.DataFrame(X_test_t, columns=pipeline.get_feature_names_out())\n",
    "    return X_train_t, X_test_t\n",
    "\n",
    "\n",
    "cols_to_drop = ['id',\n",
    " 'margin_gross_pow_ele',\n",
    " 'date_activ',\n",
    " 'date_end',\n",
    " 'date_modif_prod',\n",
    " 'date_renewal']\n",
    "\n",
    "# Nothing\n",
    "ohe_prep = make_column_transformer(\n",
    "                        (cat_pipe, cat_cols),\n",
    "                        ('drop', cols_to_drop),\n",
    "                        remainder='passthrough',\n",
    "                        verbose_feature_names_out=False\n",
    "\n",
    "                         )\n",
    "\n",
    "\n",
    "\n",
    "X_train_ohe, X_test_ohe = get_X_transformed(ohe_prep, X_train, X_test, y_train) \n",
    "train_ohe = pd.concat([X_train_ohe, y_train], axis=1)   \n",
    "train_ohe.head(4)"
   ]
  },
  {
   "cell_type": "code",
   "execution_count": 216,
   "metadata": {},
   "outputs": [
    {
     "name": "stderr",
     "output_type": "stream",
     "text": [
      "100%|██████████| 52/52 [03:06<00:00,  3.59s/it]\n"
     ]
    },
    {
     "data": {
      "image/png": "[encoded data removed]",
      "text/plain": [
       "<Figure size 864x1440 with 1 Axes>"
      ]
     },
     "metadata": {
      "needs_background": "light"
     },
     "output_type": "display_data"
    }
   ],
   "source": [
    "from lofo import LOFOImportance, Dataset, plot_importance\n",
    "from sklearn.model_selection import KFold\n",
    "# define the validation scheme\n",
    "cv = KFold(n_splits=5, shuffle=False, random_state=None) # Don't shuffle to keep the time split split validation\n",
    "\n",
    "# define the binary target and the features\n",
    "dataset = Dataset(df=train_ohe, target=\"churn\", features=[col for col in train_ohe.columns if col != \"churn\"])\n",
    "\n",
    "# define the validation scheme and scorer. The default model is LightGBM\n",
    "lofo_imp = LOFOImportance(dataset, cv=cv, scoring=\"f1\")\n",
    "\n",
    "\n",
    "# get the mean and standard deviation of the importances in pandas format\n",
    "importance_df = lofo_imp.get_importance()\n",
    "\n",
    "# plot the means and standard deviations of the importances\n",
    "plot_importance(importance_df, figsize=(12, 20))"
   ]
  },
  {
   "cell_type": "code",
   "execution_count": 237,
   "metadata": {},
   "outputs": [],
   "source": [
    "not_important_cols = importance_df[importance_df.importance_mean < 0]['feature'].unique().tolist()\n",
    "important_cols = importance_df[importance_df.importance_mean > 0]['feature'].unique().tolist()"
   ]
  },
  {
   "cell_type": "code",
   "execution_count": 13,
   "metadata": {},
   "outputs": [],
   "source": [
    "drop_cols_2 = ['id',\n",
    " 'cons_gas_12m',\n",
    " 'cons_last_month',\n",
    "'price_p_2_std',\n",
    " 'price_p_1_diff_dec_jan',\n",
    " 'price_e_3_diff_dec_jan',\n",
    "'forecast_price_p_1',\n",
    "'imp_cons',\n",
    "'has_gas',\n",
    "'forecast_meter_rent_12m',\n",
    " 'margin_gross_pow_ele',\n",
    " 'date_activ',\n",
    " 'date_end',\n",
    " 'date_modif_prod',\n",
    " 'date_renewal',\n",
    " 'price_e_3_mean',\n",
    " 'price_e_3_std',\n",
    " 'price_p_3_mean',\n",
    " 'price_p_3_std',\n",
    " 'price_e_1_zero',\n",
    " 'price_e_2_zero',\n",
    " 'price_e_3_zero',\n",
    " 'price_p_1_zero',\n",
    " 'price_p_2_zero',\n",
    " 'price_p_3_zero']"
   ]
  },
  {
   "cell_type": "code",
   "execution_count": 15,
   "metadata": {},
   "outputs": [],
   "source": [
    "# Just scaler\n",
    "sc_prep = make_column_transformer(\n",
    "                        (cat_pipe, cat_cols),\n",
    "                        ('drop', drop_cols_2),\n",
    "                        (MinMaxScaler(), num_cols+int_cols),\n",
    "                        remainder='passthrough',\n",
    "                        verbose_feature_names_out=False\n",
    "\n",
    "                         )\n",
    "\n",
    "## Log1p + Scaler\n",
    "\n"
   ]
  },
  {
   "cell_type": "code",
   "execution_count": 16,
   "metadata": {},
   "outputs": [
    {
     "ename": "NameError",
     "evalue": "name 'null_prep_new' is not defined",
     "output_type": "error",
     "traceback": [
      "\u001b[1;31m---------------------------------------------------------------------------\u001b[0m",
      "\u001b[1;31mNameError\u001b[0m                                 Traceback (most recent call last)",
      "Cell \u001b[1;32mIn[16], line 1\u001b[0m\n\u001b[1;32m----> 1\u001b[0m null_prep_new\n",
      "\u001b[1;31mNameError\u001b[0m: name 'null_prep_new' is not defined"
     ]
    }
   ],
   "source": [
    "null_prep_new"
   ]
  },
  {
   "cell_type": "code",
   "execution_count": 12,
   "metadata": {},
   "outputs": [
    {
     "ename": "NameError",
     "evalue": "name 'drop_cols_2' is not defined",
     "output_type": "error",
     "traceback": [
      "\u001b[1;31m---------------------------------------------------------------------------\u001b[0m",
      "\u001b[1;31mNameError\u001b[0m                                 Traceback (most recent call last)",
      "Cell \u001b[1;32mIn[12], line 1\u001b[0m\n\u001b[1;32m----> 1\u001b[0m num_columns \u001b[39m=\u001b[39m X_train\u001b[39m.\u001b[39mdrop(columns\u001b[39m=\u001b[39mdrop_cols_2)\u001b[39m.\u001b[39mselect_dtypes(include\u001b[39m=\u001b[39m[\u001b[39m'\u001b[39m\u001b[39mnumber\u001b[39m\u001b[39m'\u001b[39m])\u001b[39m.\u001b[39mcolumns\u001b[39m.\u001b[39mtolist()\n\u001b[0;32m      2\u001b[0m skewed_cols_2 \u001b[39m=\u001b[39m find_skewed_features(train[num_columns])  \n\u001b[0;32m      3\u001b[0m \u001b[39mfrom\u001b[39;00m \u001b[39msklearn\u001b[39;00m\u001b[39m.\u001b[39;00m\u001b[39mpreprocessing\u001b[39;00m \u001b[39mimport\u001b[39;00m PolynomialFeatures\n",
      "\u001b[1;31mNameError\u001b[0m: name 'drop_cols_2' is not defined"
     ]
    }
   ],
   "source": [
    "num_columns = X_train.drop(columns=drop_cols_2).select_dtypes(include=['number']).columns.tolist()\n",
    "skewed_cols_2 = find_skewed_features(train[num_columns])  \n",
    "from sklearn.preprocessing import PolynomialFeatures\n",
    "sc_prep_new = make_column_transformer(\n",
    "                        (cat_pipe, cat_cols),\n",
    "                        ('drop', drop_cols_2),\n",
    "                        (MinMaxScaler(), num_columns),\n",
    "                        remainder='passthrough',\n",
    "                        verbose_feature_names_out=False\n",
    "\n",
    "                         )\n",
    "\n",
    "num_pipe = make_pipeline(SelectiveLog1pTransformer(skewed_cols_2), MinMaxScaler())\n",
    "log_prep_new = make_column_transformer(\n",
    "                        (cat_pipe, cat_cols),\n",
    "                        ('drop', drop_cols),\n",
    "                        (num_pipe, num_columns),\n",
    "                        remainder='passthrough',\n",
    "                        verbose_feature_names_out=False\n",
    "                         )                         \n",
    "\n",
    "pipelines = {\n",
    "   'null':null_prep_new,\n",
    "   'sc':sc_prep_new,\n",
    "   'log':log_prep_new\n",
    "}\n",
    "\n",
    "model_definitions = [\n",
    "    ('Random Forest', RandomForestClassifier, {}),\n",
    "    ('Logistic Regression', LogisticRegression, {}),\n",
    "    ('LightGBM', LGBMClassifier, {}),\n",
    "    ('XGBoost', xgb.XGBClassifier, {})\n",
    "]\n",
    "\n",
    "\n",
    "results = []\n",
    "\n",
    "for pipeline_name, pipeline in pipelines.items():\n",
    "    for model_name, Model, model_params in model_definitions:\n",
    "        model_full_name = f'{pipeline_name}_{model_name}'\n",
    "        models = [(model_full_name, pipeline, Model, model_params)]\n",
    "        model_results = evaluate_models(models, X_train, y_train, seed=SEED)\n",
    "        results.append(model_results)\n",
    "\n",
    "# combine all dataframes\n",
    "results_df = pd.concat(results)\n",
    "results_df.sort_values(by='f1', ascending=False)"
   ]
  },
  {
   "cell_type": "code",
   "execution_count": 377,
   "metadata": {},
   "outputs": [
    {
     "name": "stdout",
     "output_type": "stream",
     "text": [
      "              precision    recall  f1-score   support\n",
      "\n",
      "           0       0.91      1.00      0.95      2638\n",
      "           1       0.82      0.06      0.12       284\n",
      "\n",
      "    accuracy                           0.91      2922\n",
      "   macro avg       0.86      0.53      0.53      2922\n",
      "weighted avg       0.90      0.91      0.87      2922\n",
      "\n"
     ]
    }
   ],
   "source": [
    "from sklearn.preprocessing import PolynomialFeatures\n",
    "rf_baseline = make_pipeline(null_prep, PolynomialFeatures(), RandomForestClassifier(random_state=SEED))\n",
    "rf_baseline.fit(X_train, y_train.values.ravel())\n",
    "y_pred_rf = rf_baseline.predict(X_test)\n",
    "print(classification_report(y_test, y_pred_rf))"
   ]
  },
  {
   "cell_type": "code",
   "execution_count": 295,
   "metadata": {},
   "outputs": [
    {
     "name": "stdout",
     "output_type": "stream",
     "text": [
      "              precision    recall  f1-score   support\n",
      "\n",
      "           0       0.92      0.88      0.90      2638\n",
      "           1       0.21      0.29      0.24       284\n",
      "\n",
      "    accuracy                           0.82      2922\n",
      "   macro avg       0.56      0.58      0.57      2922\n",
      "weighted avg       0.85      0.82      0.84      2922\n",
      "\n"
     ]
    }
   ],
   "source": [
    "rf_baseline = imb_pipe(sc_prep, sm, RandomForestClassifier(random_state=SEED))\n",
    "#rf_baseline = make_pipeline(null_prep_new, RandomForestClassifier(random_state=SEED))\n",
    "rf_baseline.fit(X_train, y_train.values.ravel())\n",
    "y_pred_rf = rf_baseline.predict(X_test)\n",
    "print(classification_report(y_test, y_pred_rf))"
   ]
  },
  {
   "cell_type": "code",
   "execution_count": 287,
   "metadata": {},
   "outputs": [
    {
     "name": "stdout",
     "output_type": "stream",
     "text": [
      "              precision    recall  f1-score   support\n",
      "\n",
      "           0       0.92      0.88      0.90      2638\n",
      "           1       0.21      0.29      0.24       284\n",
      "\n",
      "    accuracy                           0.82      2922\n",
      "   macro avg       0.56      0.58      0.57      2922\n",
      "weighted avg       0.85      0.82      0.84      2922\n",
      "\n"
     ]
    }
   ],
   "source": [
    "rf_baseline = imb_pipe(sc_prep, sm, RandomForestClassifier(random_state=SEED))\n",
    "#rf_baseline = make_pipeline(null_prep_new, RandomForestClassifier(random_state=SEED))\n",
    "rf_baseline.fit(X_train, y_train.values.ravel())\n",
    "y_pred_rf = rf_baseline.predict(X_test)\n",
    "print(classification_report(y_test, y_pred_rf))"
   ]
  },
  {
   "cell_type": "code",
   "execution_count": 286,
   "metadata": {},
   "outputs": [
    {
     "name": "stdout",
     "output_type": "stream",
     "text": [
      "              precision    recall  f1-score   support\n",
      "\n",
      "           0       0.91      0.97      0.94      2638\n",
      "           1       0.36      0.14      0.20       284\n",
      "\n",
      "    accuracy                           0.89      2922\n",
      "   macro avg       0.64      0.56      0.57      2922\n",
      "weighted avg       0.86      0.89      0.87      2922\n",
      "\n"
     ]
    }
   ],
   "source": [
    "rf_baseline = imb_pipe(sc_prep, smote, RandomForestClassifier(random_state=SEED))\n",
    "#rf_baseline = make_pipeline(null_prep_new, RandomForestClassifier(random_state=SEED))\n",
    "rf_baseline.fit(X_train, y_train.values.ravel())\n",
    "y_pred_rf = rf_baseline.predict(X_test)\n",
    "print(classification_report(y_test, y_pred_rf))"
   ]
  },
  {
   "cell_type": "code",
   "execution_count": 299,
   "metadata": {},
   "outputs": [
    {
     "name": "stdout",
     "output_type": "stream",
     "text": [
      "              precision    recall  f1-score   support\n",
      "\n",
      "           0       0.91      1.00      0.95      2638\n",
      "           1       0.94      0.06      0.11       284\n",
      "\n",
      "    accuracy                           0.91      2922\n",
      "   macro avg       0.92      0.53      0.53      2922\n",
      "weighted avg       0.91      0.91      0.87      2922\n",
      "\n"
     ]
    }
   ],
   "source": [
    "\n",
    "rf_baseline = make_pipeline(null_prep_new, RandomForestClassifier(random_state=SEED))\n",
    "rf_baseline.fit(X_train, y_train.values.ravel())\n",
    "y_pred_rf = rf_baseline.predict(X_test)\n",
    "print(classification_report(y_test, y_pred_rf))"
   ]
  },
  {
   "cell_type": "code",
   "execution_count": 10,
   "metadata": {},
   "outputs": [],
   "source": [
    "from sklearn.metrics import (accuracy_score, average_precision_score,\n",
    "                             classification_report, confusion_matrix, f1_score,\n",
    "                             precision_recall_curve, precision_score,\n",
    "                             recall_score, silhouette_samples,\n",
    "                             silhouette_score)\n",
    "\n",
    "def threshold_predictions(proba, threshold):\n",
    "    return (proba >= threshold).astype(int)\n",
    "\n",
    "def plot_confusion_matrix(y_true, y_pred, labels=None, title='Confusion Matrix', cmap='Blues', fontsize=14):\n",
    "    cm = confusion_matrix(y_true, y_pred)\n",
    "\n",
    "    if labels is None:\n",
    "        labels = [str(i) for i in range(len(cm))]\n",
    "\n",
    "    plt.figure(figsize=(8, 6))\n",
    "    sns.set(font_scale=1.4)\n",
    "    ax = sns.heatmap(cm, annot=True, fmt='d', cmap=cmap, cbar=False, \n",
    "                     xticklabels=labels, yticklabels=labels, annot_kws={\"size\": fontsize, \"ha\": 'center', \"va\": 'center'})\n",
    "    \n",
    "    for t in ax.texts:\n",
    "        t.set_text(t.get_text() + \" \")  # Add a small space for better alignment\n",
    "    \n",
    "    plt.xlabel('Predicted', fontsize=fontsize)\n",
    "    plt.ylabel('True', fontsize=fontsize)\n",
    "    plt.title(title, fontsize=fontsize+2, pad=20)\n",
    "    plt.show()"
   ]
  },
  {
   "cell_type": "code",
   "execution_count": 11,
   "metadata": {},
   "outputs": [
    {
     "ename": "NameError",
     "evalue": "name 'null_prep_new' is not defined",
     "output_type": "error",
     "traceback": [
      "\u001b[1;31m---------------------------------------------------------------------------\u001b[0m",
      "\u001b[1;31mNameError\u001b[0m                                 Traceback (most recent call last)",
      "Cell \u001b[1;32mIn[11], line 1\u001b[0m\n\u001b[1;32m----> 1\u001b[0m lgbm_baseline \u001b[39m=\u001b[39m make_pipeline(null_prep_new,PolynomialFeatures(), LGBMClassifier(random_state\u001b[39m=\u001b[39mSEED, class_weight\u001b[39m=\u001b[39m\u001b[39m'\u001b[39m\u001b[39mbalanced\u001b[39m\u001b[39m'\u001b[39m, min_child_samples\u001b[39m=\u001b[39m\u001b[39mint\u001b[39m(\u001b[39m0.01\u001b[39m\u001b[39m*\u001b[39mX_train\u001b[39m.\u001b[39mshape[\u001b[39m0\u001b[39m])))\n\u001b[0;32m      2\u001b[0m lgbm_baseline\u001b[39m.\u001b[39mfit(X_train, y_train\u001b[39m.\u001b[39mvalues\u001b[39m.\u001b[39mravel())\n\u001b[0;32m      3\u001b[0m y_pred_lgbm \u001b[39m=\u001b[39m lgbm_baseline\u001b[39m.\u001b[39mpredict(X_test)\n",
      "\u001b[1;31mNameError\u001b[0m: name 'null_prep_new' is not defined"
     ]
    }
   ],
   "source": [
    "\n",
    "lgbm_baseline = make_pipeline(null_prep_new,PolynomialFeatures(), LGBMClassifier(random_state=SEED, class_weight='balanced', min_child_samples=int(0.01*X_train.shape[0])))\n",
    "lgbm_baseline.fit(X_train, y_train.values.ravel())\n",
    "y_pred_lgbm = lgbm_baseline.predict(X_test)\n",
    "print(classification_report(y_test, y_pred_lgbm))"
   ]
  },
  {
   "cell_type": "code",
   "execution_count": 364,
   "metadata": {},
   "outputs": [
    {
     "name": "stdout",
     "output_type": "stream",
     "text": [
      "Optimal threshold: 0.2417, Precision: 0.1221, Recall: 0.7993\n"
     ]
    }
   ],
   "source": [
    "y_proba = lgbm_baseline.predict_proba(X_test)[:, 1]\n",
    "\n",
    "precision, recall, thresholds = precision_recall_curve(y_test, y_proba)\n",
    "\n",
    "# Find the threshold value where recall is closest to 0.8\n",
    "target_recall = 0.8\n",
    "idx = np.abs(recall - target_recall).argmin()\n",
    "optimal_threshold = thresholds[idx]\n",
    "\n",
    "print(f'Optimal threshold: {optimal_threshold:.4f}, Precision: {precision[idx]:.4f}, Recall: {recall[idx]:.4f}')"
   ]
  },
  {
   "cell_type": "code",
   "execution_count": 365,
   "metadata": {},
   "outputs": [
    {
     "data": {
      "image/png": "[encoded data removed]",
      "text/plain": [
       "<Figure size 576x432 with 1 Axes>"
      ]
     },
     "metadata": {},
     "output_type": "display_data"
    }
   ],
   "source": [
    "y_pred = threshold_predictions(y_proba, optimal_threshold)\n",
    "\n",
    "plot_confusion_matrix(y_test, y_pred, labels=['Non-Churned', 'Churned'])"
   ]
  },
  {
   "cell_type": "code",
   "execution_count": 394,
   "metadata": {},
   "outputs": [
    {
     "data": {
      "text/plain": [
       "['lgbm_baseline_model.pkl']"
      ]
     },
     "execution_count": 394,
     "metadata": {},
     "output_type": "execute_result"
    }
   ],
   "source": [
    "import joblib\n",
    "# Save model\n",
    "joblib.dump(lgbm_baseline, 'lgbm_baseline_model.pkl')"
   ]
  },
  {
   "cell_type": "code",
   "execution_count": 368,
   "metadata": {},
   "outputs": [],
   "source": [
    "lgbm_baseline = joblib.load('lgbm_baseline_model.pkl')"
   ]
  }
 ],
 "metadata": {
  "kernelspec": {
   "display_name": "env_full",
   "language": "python",
   "name": "python3"
  },
  "language_info": {
   "codemirror_mode": {
    "name": "ipython",
    "version": 3
   },
   "file_extension": ".py",
   "mimetype": "text/x-python",
   "name": "python",
   "nbconvert_exporter": "python",
   "pygments_lexer": "ipython3",
   "version": "3.10.0"
  },
  "orig_nbformat": 4
 },
 "nbformat": 4,
 "nbformat_minor": 2
}
