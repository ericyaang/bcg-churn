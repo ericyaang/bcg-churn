{
 "cells": [
  {
   "cell_type": "code",
   "execution_count": 2,
   "metadata": {},
   "outputs": [],
   "source": [
    "import pandas as pd\n",
    "import matplotlib.pyplot as plt\n",
    "import numpy as np\n",
    "from functools import reduce\n",
    "\n",
    "client_df = pd.read_parquet(r'C:\\Users\\Eric\\Documents\\___Portfolio\\bcg-churn\\data\\client_cleaned.parquet')\n",
    "price_df = pd.read_parquet(r'C:\\Users\\Eric\\Documents\\___Portfolio\\bcg-churn\\data\\price_cleaned.parquet')"
   ]
  },
  {
   "cell_type": "code",
   "execution_count": 3,
   "metadata": {},
   "outputs": [],
   "source": [
    "def calculate_price_differences(price_df, price_columns):\n",
    "    \"\"\"\n",
    "    Calculates the price differences between December and January for the given price columns.\n",
    "    \n",
    "    Args:\n",
    "        price_df (pandas.DataFrame): DataFrame containing the price data with columns 'id', 'price_date', and the specified price columns.\n",
    "        price_columns (list): List of price column names (e.g., ['price_e_1', 'price_p_1', 'price_e_2']).\n",
    "    \n",
    "    Returns:\n",
    "        pandas.DataFrame: DataFrame with columns 'id' and the price columns suffixed with '_diff_dec_jan'.\n",
    "    \"\"\"\n",
    "    # Group prices by companies and month\n",
    "    monthly_price_by_id = price_df.groupby(['id', 'price_date'])[price_columns].mean().reset_index()\n",
    "\n",
    "    # Get January and December prices\n",
    "    jan_prices = monthly_price_by_id.groupby('id').first().reset_index()\n",
    "    dec_prices = monthly_price_by_id.groupby('id').last().reset_index()\n",
    "\n",
    "    # Calculate the differences\n",
    "    diff = pd.merge(dec_prices.rename(columns={col: f'dec_{col}' for col in price_columns}), jan_prices.drop(columns='price_date'), on='id')\n",
    "    \n",
    "    # Calculate price differences for each column\n",
    "    for col in price_columns:\n",
    "        diff[f'{col}_diff_dec_jan'] = diff[f'dec_{col}'] - diff[col]\n",
    "\n",
    "    # Select the id and price difference columns\n",
    "    diff = diff[['id'] + [f'{col}_diff_dec_jan' for col in price_columns]]\n",
    "    \n",
    "    return diff\n",
    "\n",
    "price_columns = price_df.filter(regex=\"price_e|price_p\").columns.tolist()\n",
    "price_diffs = calculate_price_differences(price_df, price_columns)"
   ]
  },
  {
   "cell_type": "code",
   "execution_count": 4,
   "metadata": {},
   "outputs": [],
   "source": [
    "def aggregate_prices(price_df):\n",
    "    \"\"\"\n",
    "    Aggregates the prices by id and calculates the mean and standard deviation.\n",
    "\n",
    "    Args:\n",
    "        price_df (pandas.DataFrame): DataFrame containing the price data with a column 'id' and various price columns.\n",
    "    \n",
    "    Returns:\n",
    "        pandas.DataFrame: DataFrame with columns 'id', and the mean and standard deviation values per id.\n",
    "    \"\"\"\n",
    "    agg_prices = price_df.select_dtypes(exclude='datetime')\n",
    "    agg_prices = agg_prices.groupby('id').agg(['mean', 'std'])\n",
    "\n",
    "    # Flatten the MultiIndex column names and join them with an underscore\n",
    "    agg_prices.columns = ['_'.join(col).strip() for col in agg_prices.columns.values]\n",
    "    agg_prices = agg_prices.reset_index()\n",
    "\n",
    "    return agg_prices\n",
    "\n",
    "agg_prices = aggregate_prices(price_df)\n"
   ]
  },
  {
   "cell_type": "code",
   "execution_count": 5,
   "metadata": {},
   "outputs": [],
   "source": [
    "def count_zeros(df, price_columns):\n",
    "    \"\"\"\n",
    "    Creates new DataFrame that represent the count of zeros in the specified columns for each id. Drops the old price columns.\n",
    "\n",
    "    Args:\n",
    "        df (pandas.DataFrame): DataFrame with price columns.\n",
    "        price_columns (list): List of price column names.\n",
    "\n",
    "    Returns:\n",
    "        pandas.DataFrame: DataFrame with new columns representing counts of zeros for each id.\n",
    "    \"\"\"\n",
    "    df_zeros = df.copy()\n",
    "    df_zeros = df_zeros.select_dtypes(exclude='datetime')\n",
    "    for col in price_columns:\n",
    "        df_zeros[f'{col}_zero'] = (df_zeros[col] == 0).astype(int)\n",
    "        \n",
    "    # Sum zeros for each 'id'\n",
    "    df_zeros = df_zeros.groupby('id').sum().reset_index()\n",
    "\n",
    "    # Drop old price columns\n",
    "    df_zeros = df_zeros.drop(price_columns, axis=1)\n",
    "\n",
    "    return df_zeros\n",
    "\n",
    "\n",
    "zero_df = count_zeros(price_df, price_columns)\n"
   ]
  },
  {
   "cell_type": "code",
   "execution_count": 6,
   "metadata": {},
   "outputs": [],
   "source": [
    "def convert_to_binary(df):\n",
    "    \"\"\"\n",
    "    Converts all columns in the DataFrame to binary variables, where 0 represents zero values and 1 represents non-zero values.\n",
    "    The 'id' column is excluded from conversion.\n",
    "\n",
    "    Args:\n",
    "        df (pandas.DataFrame): DataFrame containing the columns to be converted.\n",
    "\n",
    "    Returns:\n",
    "        pandas.DataFrame: DataFrame with all columns (except 'id') converted to binary variables.\n",
    "    \"\"\"\n",
    "    df_binary = df.copy()\n",
    "    cols_to_convert = [col for col in df.columns if col != 'id']\n",
    "    df_binary[cols_to_convert] = df_binary[cols_to_convert].applymap(lambda x: 0 if x == 0 else 1 if not pd.isnull(x) else np.nan)\n",
    "    \n",
    "    return df_binary\n",
    "\n",
    "is_zero_df = convert_to_binary(zero_df)"
   ]
  },
  {
   "cell_type": "code",
   "execution_count": 7,
   "metadata": {},
   "outputs": [],
   "source": [
    "def merge_dataframes(original_df, df_list):\n",
    "    \"\"\"\n",
    "    Merges the provided dataframes on 'id'.\n",
    "    \n",
    "    Args:\n",
    "        original_df (pandas.DataFrame): The original DataFrame.\n",
    "        df_list (list): List of DataFrames to be merged with the original DataFrame.\n",
    "        \n",
    "    Returns:\n",
    "        pandas.DataFrame: The merged DataFrame.\n",
    "    \"\"\"\n",
    "    # Merge all dataframes in the list with the original dataframe\n",
    "    merged_df = reduce(lambda left,right: pd.merge(left, right, on='id', how='left'), df_list, original_df)\n",
    "    \n",
    "    return merged_df\n",
    "\n",
    "merged_df = merge_dataframes(client_df, [price_diffs, agg_prices, zero_df])"
   ]
  },
  {
   "attachments": {},
   "cell_type": "markdown",
   "metadata": {},
   "source": [
    "## Save merged dataframe"
   ]
  },
  {
   "cell_type": "code",
   "execution_count": 8,
   "metadata": {},
   "outputs": [
    {
     "name": "stdout",
     "output_type": "stream",
     "text": [
      "Files saved successfully\n"
     ]
    }
   ],
   "source": [
    "try:\n",
    "    merged_df.to_parquet(r'C:\\Users\\Eric\\Documents\\___Portfolio\\bcg-churn\\data\\df_merged.parquet')\n",
    "    print(\"Files saved successfully\")\n",
    "except Exception as e:\n",
    "    print(f\"Error occurred: {e}\")"
   ]
  }
 ],
 "metadata": {
  "kernelspec": {
   "display_name": "env_full",
   "language": "python",
   "name": "python3"
  },
  "language_info": {
   "codemirror_mode": {
    "name": "ipython",
    "version": 3
   },
   "file_extension": ".py",
   "mimetype": "text/x-python",
   "name": "python",
   "nbconvert_exporter": "python",
   "pygments_lexer": "ipython3",
   "version": "3.10.0"
  },
  "orig_nbformat": 4
 },
 "nbformat": 4,
 "nbformat_minor": 2
}
